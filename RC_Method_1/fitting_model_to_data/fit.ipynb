{
 "cells": [
  {
   "cell_type": "code",
   "execution_count": 2,
   "metadata": {},
   "outputs": [],
   "source": [
    "import perceval as pcvl\n",
    "import lo_reservoir as lrs\n",
    "\n",
    "import numpy as np\n",
    "import matplotlib.pyplot as plt\n"
   ]
  },
  {
   "cell_type": "code",
   "execution_count": 6,
   "metadata": {},
   "outputs": [
    {
     "name": "stdout",
     "output_type": "stream",
     "text": [
      "Expectation values for each mode: [1.4160433618096806, 0.9024975510383665, 2.725437622999165, 2.3387701596493855, 2.2167997539700246, 2.4004515505334973]\n"
     ]
    }
   ],
   "source": [
    "m = 6 # max nb of modes \n",
    "t = 100 # need to adapt to time series length\n",
    "\n",
    "simulator = lrs.PhotonicReservoirSimulator(m, t, overlapping=True)\n",
    "data = simulator.generate_rndm_param_matrix()\n",
    "simulator.set_circuit_parameters(data)\n",
    "input_state = pcvl.BasicState([3]*(m-2) + [0]*2)\n",
    "expectation_values = simulator.calculate_mode_expectations(input_state)\n",
    "print(\"Expectation values for each mode:\", expectation_values)"
   ]
  },
  {
   "cell_type": "code",
   "execution_count": 5,
   "metadata": {},
   "outputs": [
    {
     "name": "stdout",
     "output_type": "stream",
     "text": [
      "Expectation values for each mode: [2.4888365021236014, 2.0634274695866845, 1.3769961733848763, 1.8577115323616622, 2.7878016770590404, 1.425226645484285]\n"
     ]
    }
   ],
   "source": []
  }
 ],
 "metadata": {
  "kernelspec": {
   "display_name": "unloqc-EDF-1--jV6767a",
   "language": "python",
   "name": "python3"
  },
  "language_info": {
   "codemirror_mode": {
    "name": "ipython",
    "version": 3
   },
   "file_extension": ".py",
   "mimetype": "text/x-python",
   "name": "python",
   "nbconvert_exporter": "python",
   "pygments_lexer": "ipython3",
   "version": "3.10.12"
  }
 },
 "nbformat": 4,
 "nbformat_minor": 2
}
