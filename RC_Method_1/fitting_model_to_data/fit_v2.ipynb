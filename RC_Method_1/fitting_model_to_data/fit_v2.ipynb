{
 "cells": [
  {
   "cell_type": "code",
   "execution_count": 18,
   "metadata": {},
   "outputs": [],
   "source": [
    "%reload_ext autoreload\n",
    "%autoreload 2"
   ]
  },
  {
   "cell_type": "code",
   "execution_count": 19,
   "metadata": {},
   "outputs": [],
   "source": [
    "import perceval as pcvl\n",
    "import lo_reservoir as lrs\n",
    "\n",
    "import numpy as np\n",
    "import matplotlib.pyplot as plt\n",
    "import pandas as pd"
   ]
  },
  {
   "cell_type": "markdown",
   "metadata": {},
   "source": [
    "# Load the data"
   ]
  },
  {
   "cell_type": "code",
   "execution_count": 20,
   "metadata": {},
   "outputs": [
    {
     "name": "stdout",
     "output_type": "stream",
     "text": [
      "m =  5\n",
      "t_max =  1000\n"
     ]
    }
   ],
   "source": [
    "m = 5\n",
    "data_matrix = lrs.load_data_into_matrix(\"wind_data_fr_2021.csv\", m)\n",
    "\n",
    "# Take a subset of datapoints\n",
    "data_matrix = data_matrix[:1000, :]\n",
    "\n",
    "\n",
    "t_max = data_matrix.shape[0]\n",
    "print(\"m = \", m)\n",
    "print(\"t_max = \", t_max)"
   ]
  },
  {
   "cell_type": "markdown",
   "metadata": {},
   "source": [
    "# Generate expectation matrix (t_max, m)"
   ]
  },
  {
   "cell_type": "code",
   "execution_count": 21,
   "metadata": {},
   "outputs": [
    {
     "name": "stdout",
     "output_type": "stream",
     "text": [
      "WARNING: Requested more layers than generated. Generating 1000 more layers...\n"
     ]
    },
    {
     "name": "stderr",
     "output_type": "stream",
     "text": [
      "Generating layers: 100%|██████████| 1000/1000 [00:01<00:00, 767.69it/s]\n"
     ]
    }
   ],
   "source": [
    "simulator = lrs.PhotonicReservoirSimulator(m, t_max, overlapping=True)\n",
    "\n",
    "# generate the layers\n",
    "_ = simulator.set_circuit_with_stored_layers()"
   ]
  },
  {
   "cell_type": "code",
   "execution_count": 22,
   "metadata": {},
   "outputs": [
    {
     "name": "stderr",
     "output_type": "stream",
     "text": [
      "Processing time steps: 100%|██████████| 1000/1000 [02:38<00:00,  6.30it/s]\n"
     ]
    }
   ],
   "source": [
    "input_state = pcvl.BasicState([3]*(m-2) + [0]*2)\n",
    "expectations_matrix = simulator.sequential_expectation_calculation(data_matrix, input_state)"
   ]
  },
  {
   "cell_type": "code",
   "execution_count": 24,
   "metadata": {},
   "outputs": [
    {
     "name": "stdout",
     "output_type": "stream",
     "text": [
      "expectations_matrix.shape =  (1000, 5)\n"
     ]
    }
   ],
   "source": [
    "print(\"expectations_matrix.shape = \", np.array(expectations_matrix).shape)"
   ]
  },
  {
   "cell_type": "code",
   "execution_count": null,
   "metadata": {},
   "outputs": [],
   "source": []
  },
  {
   "cell_type": "code",
   "execution_count": null,
   "metadata": {},
   "outputs": [],
   "source": []
  },
  {
   "cell_type": "code",
   "execution_count": 3,
   "metadata": {},
   "outputs": [
    {
     "name": "stdout",
     "output_type": "stream",
     "text": [
      "WARNING: No number of layers provided for rndm data matrix. Using t_max.\n"
     ]
    },
    {
     "ename": "AttributeError",
     "evalue": "'PhotonicReservoirSimulator' object has no attribute 'circuit'",
     "output_type": "error",
     "traceback": [
      "\u001b[0;31m---------------------------------------------------------------------------\u001b[0m",
      "\u001b[0;31mAttributeError\u001b[0m                            Traceback (most recent call last)",
      "\u001b[1;32m/Users/mha/My Drive/Desktop/Studium/Physik/MSc/Semester 3/Extracurricular/LOQCathon/unloqc-EDF-1/RC_Method_1/fitting_model_to_data/fit_v2.ipynb Cell 2\u001b[0m line \u001b[0;36m5\n\u001b[1;32m      <a href='vscode-notebook-cell:/Users/mha/My%20Drive/Desktop/Studium/Physik/MSc/Semester%203/Extracurricular/LOQCathon/unloqc-EDF-1/RC_Method_1/fitting_model_to_data/fit_v2.ipynb#W1sZmlsZQ%3D%3D?line=1'>2</a>\u001b[0m t \u001b[39m=\u001b[39m \u001b[39m100\u001b[39m \u001b[39m# need to adapt to time series length\u001b[39;00m\n\u001b[1;32m      <a href='vscode-notebook-cell:/Users/mha/My%20Drive/Desktop/Studium/Physik/MSc/Semester%203/Extracurricular/LOQCathon/unloqc-EDF-1/RC_Method_1/fitting_model_to_data/fit_v2.ipynb#W1sZmlsZQ%3D%3D?line=3'>4</a>\u001b[0m simulator \u001b[39m=\u001b[39m lrs\u001b[39m.\u001b[39mPhotonicReservoirSimulator(m, t, overlapping\u001b[39m=\u001b[39m\u001b[39mTrue\u001b[39;00m)\n\u001b[0;32m----> <a href='vscode-notebook-cell:/Users/mha/My%20Drive/Desktop/Studium/Physik/MSc/Semester%203/Extracurricular/LOQCathon/unloqc-EDF-1/RC_Method_1/fitting_model_to_data/fit_v2.ipynb#W1sZmlsZQ%3D%3D?line=4'>5</a>\u001b[0m data \u001b[39m=\u001b[39m simulator\u001b[39m.\u001b[39;49mgenerate_rndm_param_matrix()\n\u001b[1;32m      <a href='vscode-notebook-cell:/Users/mha/My%20Drive/Desktop/Studium/Physik/MSc/Semester%203/Extracurricular/LOQCathon/unloqc-EDF-1/RC_Method_1/fitting_model_to_data/fit_v2.ipynb#W1sZmlsZQ%3D%3D?line=5'>6</a>\u001b[0m simulator\u001b[39m.\u001b[39mset_circuit_parameters(data)\n\u001b[1;32m      <a href='vscode-notebook-cell:/Users/mha/My%20Drive/Desktop/Studium/Physik/MSc/Semester%203/Extracurricular/LOQCathon/unloqc-EDF-1/RC_Method_1/fitting_model_to_data/fit_v2.ipynb#W1sZmlsZQ%3D%3D?line=6'>7</a>\u001b[0m input_state \u001b[39m=\u001b[39m pcvl\u001b[39m.\u001b[39mBasicState([\u001b[39m3\u001b[39m]\u001b[39m*\u001b[39m(m\u001b[39m-\u001b[39m\u001b[39m2\u001b[39m) \u001b[39m+\u001b[39m [\u001b[39m0\u001b[39m]\u001b[39m*\u001b[39m\u001b[39m2\u001b[39m)\n",
      "File \u001b[0;32m~/My Drive/Desktop/Studium/Physik/MSc/Semester 3/Extracurricular/LOQCathon/unloqc-EDF-1/src/lo_reservoir/method_1.py:75\u001b[0m, in \u001b[0;36mPhotonicReservoirSimulator.generate_rndm_param_matrix\u001b[0;34m(self, num_layers)\u001b[0m\n\u001b[1;32m     73\u001b[0m     \u001b[39mprint\u001b[39m(\u001b[39m\"\u001b[39m\u001b[39mWARNING: No number of layers provided for rndm data matrix. Using t_max.\u001b[39m\u001b[39m\"\u001b[39m)\n\u001b[1;32m     74\u001b[0m     num_layers \u001b[39m=\u001b[39m \u001b[39mself\u001b[39m\u001b[39m.\u001b[39mt_max\n\u001b[0;32m---> 75\u001b[0m num_parameters \u001b[39m=\u001b[39m \u001b[39mlen\u001b[39m(\u001b[39mself\u001b[39;49m\u001b[39m.\u001b[39;49mcircuit\u001b[39m.\u001b[39mget_parameters())\n\u001b[1;32m     76\u001b[0m \u001b[39m# Random dataset of angles\u001b[39;00m\n\u001b[1;32m     77\u001b[0m \u001b[39mreturn\u001b[39;00m np\u001b[39m.\u001b[39mrandom\u001b[39m.\u001b[39mrand(num_layers, num_parameters\u001b[39m/\u001b[39m\u001b[39m/\u001b[39mnum_layers)\u001b[39m*\u001b[39m\u001b[39m2\u001b[39m\u001b[39m*\u001b[39mnp\u001b[39m.\u001b[39mpi\n",
      "\u001b[0;31mAttributeError\u001b[0m: 'PhotonicReservoirSimulator' object has no attribute 'circuit'"
     ]
    }
   ],
   "source": [
    "m = 6 # max nb of modes \n",
    "t = 100 # need to adapt to time series length\n",
    "\n",
    "simulator = lrs.PhotonicReservoirSimulator(m, t, overlapping=True)\n",
    "data = simulator.generate_rndm_param_matrix()\n",
    "simulator.set_circuit_parameters(data)\n",
    "input_state = pcvl.BasicState([3]*(m-2) + [0]*2)\n",
    "expectation_values = simulator.calculate_mode_expectations(input_state)\n",
    "print(\"Expectation values for each mode:\", expectation_values)"
   ]
  },
  {
   "cell_type": "code",
   "execution_count": 5,
   "metadata": {},
   "outputs": [],
   "source": [
    "# import a csv file\n",
    "df = pd.read_csv(\"wind_data_fr_2021.csv\", sep=\";\")\n",
    "# remove the first column\n",
    "\n",
    "# make a numpy array out of the dataframe\n",
    "da = df.to_numpy()\n",
    "# reduce the scale of the data\n",
    "data_scaled_down = da / max(da)"
   ]
  },
  {
   "cell_type": "code",
   "execution_count": 6,
   "metadata": {},
   "outputs": [
    {
     "name": "stdout",
     "output_type": "stream",
     "text": [
      "[[0.06232918]\n",
      " [0.1079928 ]\n",
      " [0.10765949]\n",
      " ...\n",
      " [0.22838477]\n",
      " [0.21725218]\n",
      " [0.21018599]]\n",
      "(17520, 1)\n"
     ]
    }
   ],
   "source": [
    "print(data_scaled_down)\n",
    "print(data_scaled_down.shape)"
   ]
  },
  {
   "cell_type": "code",
   "execution_count": 7,
   "metadata": {},
   "outputs": [],
   "source": [
    "# function to create new colums with the same data\n",
    "def new_matrix(data, m):\n",
    "    n = (m-1)*5\n",
    "    new_data = np.zeros((data.shape[0], data.shape[1]*n))\n",
    "    for i in range(n):\n",
    "        new_data[:, i*data.shape[1]:(i+1)*data.shape[1]] = data\n",
    "    return new_data"
   ]
  },
  {
   "cell_type": "code",
   "execution_count": 8,
   "metadata": {},
   "outputs": [],
   "source": [
    "data_new_columns = new_matrix(data_scaled_down, 5)"
   ]
  },
  {
   "cell_type": "code",
   "execution_count": 9,
   "metadata": {},
   "outputs": [
    {
     "name": "stdout",
     "output_type": "stream",
     "text": [
      "[[0.06232918 0.06232918 0.06232918 ... 0.06232918 0.06232918 0.06232918]\n",
      " [0.1079928  0.1079928  0.1079928  ... 0.1079928  0.1079928  0.1079928 ]\n",
      " [0.10765949 0.10765949 0.10765949 ... 0.10765949 0.10765949 0.10765949]\n",
      " ...\n",
      " [0.22838477 0.22838477 0.22838477 ... 0.22838477 0.22838477 0.22838477]\n",
      " [0.21725218 0.21725218 0.21725218 ... 0.21725218 0.21725218 0.21725218]\n",
      " [0.21018599 0.21018599 0.21018599 ... 0.21018599 0.21018599 0.21018599]]\n",
      "(17520, 20)\n"
     ]
    }
   ],
   "source": [
    "print(data_new_columns)\n",
    "print(data_new_columns.shape)"
   ]
  },
  {
   "cell_type": "code",
   "execution_count": 25,
   "metadata": {},
   "outputs": [
    {
     "name": "stdout",
     "output_type": "stream",
     "text": [
      "Expectation values for each mode: [2.0834143973411376, 2.5752346334633582, 0.4995991375986157, 2.759684465139715, 1.082067366457272]\n"
     ]
    }
   ],
   "source": [
    "m = 5 # max nb of modes \n",
    "t = len(data_new_columns[:1000]) # need to adapt to time series length\n",
    "\n",
    "simulator = lrs.PhotonicReservoirSimulator(m, t, overlapping=True)\n",
    "simulator.set_circuit_parameters(data_new_columns[:1000])\n",
    "input_state = pcvl.BasicState([3]*(m-2) + [0]*2)\n",
    "expectation_values = simulator.calculate_mode_expectations(input_state)\n",
    "print(\"Expectation values for each mode:\", expectation_values)"
   ]
  },
  {
   "cell_type": "code",
   "execution_count": null,
   "metadata": {},
   "outputs": [],
   "source": []
  }
 ],
 "metadata": {
  "kernelspec": {
   "display_name": "unloqc-EDF-1--jV6767a",
   "language": "python",
   "name": "python3"
  },
  "language_info": {
   "codemirror_mode": {
    "name": "ipython",
    "version": 3
   },
   "file_extension": ".py",
   "mimetype": "text/x-python",
   "name": "python",
   "nbconvert_exporter": "python",
   "pygments_lexer": "ipython3",
   "version": "3.10.12"
  }
 },
 "nbformat": 4,
 "nbformat_minor": 2
}
