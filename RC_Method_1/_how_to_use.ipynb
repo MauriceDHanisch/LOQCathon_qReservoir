{
 "cells": [
  {
   "cell_type": "code",
<<<<<<< HEAD
<<<<<<< HEAD
   "execution_count": 1,
=======
   "execution_count": 7,
>>>>>>> chagen
=======
   "execution_count": 7,
>>>>>>> mhanisch
   "metadata": {},
   "outputs": [],
   "source": [
    "import perceval as pcvl\n",
    "from lo_reservoir import PhotonicReservoirSimulator\n",
    "\n",
    "# Here we define the parameters of the circuit\n",
    "m = 5 # number of modes -> gives us the output dimension of the reservoir\n",
    "t = 10000 # number of time steps -> given by the data\n",
    "\n",
<<<<<<< HEAD
    "\n",
=======
>>>>>>> chagen
    "# Here we initialize the simulator\n",
    "simulator = PhotonicReservoirSimulator(m, t, overlapping=True) "
   ]
  },
  {
   "cell_type": "markdown",
   "metadata": {},
   "source": [
    "##### ```We can now give the simulator a data matrix which has a shape (t, num_of_parameters = t*5*(m-1) (if overlap))```\n"
   ]
  },
  {
   "cell_type": "code",
<<<<<<< HEAD
<<<<<<< HEAD
   "execution_count": 6,
=======
   "execution_count": 8,
>>>>>>> chagen
=======
   "execution_count": 12,
>>>>>>> mhanisch
   "metadata": {},
   "outputs": [
    {
     "name": "stdout",
     "output_type": "stream",
     "text": [
<<<<<<< HEAD
<<<<<<< HEAD
      "[[2.44887207 1.81274606 5.37852334 4.56442506 4.88345372 1.82798386\n",
      "  5.45996036 3.7329171  0.86120451 4.37195507 0.50213363 0.53572552\n",
      "  0.01838812 2.57026719 1.49861616]\n",
      " [2.99657755 0.50542866 0.42668564 3.6306404  1.13588479 5.68379793\n",
      "  0.96709981 2.61207679 6.05153123 4.92464237 2.26540081 3.99736859\n",
      "  3.57536895 2.98441404 4.46496854]\n",
      " [0.26195289 6.07225449 4.85778182 1.04037496 1.55110093 1.03965598\n",
      "  1.10200475 3.59411791 2.22521274 2.89517478 1.07852614 1.68460561\n",
      "  1.4491822  0.21505034 4.57519975]]\n"
=======
      "[[5.00570466 1.31861218 4.87868016 0.51628213 1.60055567 1.58174375\n",
      "  2.22333252 2.16026929 3.05077153 5.95366378 2.43476669 4.42600638\n",
      "  0.5355666  3.60009058 4.87687442]\n",
      " [0.46288577 4.2359687  1.05591081 3.83822325 1.00977863 2.88597459\n",
      "  1.23206841 4.12910939 5.53128678 4.14712692 5.13201402 1.14890779\n",
      "  2.16048386 2.28407326 1.7073594 ]\n",
      " [2.55458717 3.3440892  0.38529689 2.77974546 1.28309862 2.72397851\n",
      "  4.19428733 2.84185985 5.8789202  0.6205216  5.93872806 0.19723897\n",
      "  3.9006818  0.03520487 2.37349921]]\n"
>>>>>>> chagen
=======
      "[[2.38730341 1.6283299  3.91858491 1.64848244 4.69761857 5.9752023\n",
      "  2.08964001 5.57212722 1.59465641 2.7629152  6.1805405  2.07541124\n",
      "  1.20969582 5.94724034 3.97796545 2.05796354 4.37801173 1.53544541\n",
      "  0.47226403 6.07213282]\n",
      " [0.69367732 3.09313977 0.59049229 2.25914676 0.05596264 1.72600642\n",
      "  0.0962967  2.56536704 3.62464228 1.68534832 0.38374468 4.72917133\n",
      "  5.86708446 0.33636268 5.964638   2.85033531 3.71291014 0.03785994\n",
      "  2.83724432 2.23901029]\n",
      " [2.35290743 2.25963511 5.32564743 3.89997911 1.73599646 2.81576242\n",
      "  2.32369269 2.87436724 2.456024   2.70934197 1.82048727 4.0517522\n",
      "  6.1167223  2.33375705 2.19190886 3.97592426 4.01389334 3.91980404\n",
      "  2.94522319 2.68960276]]\n"
>>>>>>> mhanisch
     ]
    }
   ],
   "source": [
    "# Here we use a random matrix as an example and put it as a param matrix\n",
    "data = simulator.generate_rndm_param_matrix()\n",
    "print(data[:3])\n",
    "\n",
    "# Now we can give the circuit as parameters our data\n",
    "simulator.set_circuit_parameters(data)"
   ]
  },
  {
   "cell_type": "markdown",
   "metadata": {},
   "source": [
    "\n",
    "##### ```Now we can calculate the number expectation vector: [exp_mode_1, exp_mode_2, ..., exp_mode_m]```\n"
   ]
  },
  {
   "cell_type": "code",
<<<<<<< HEAD
<<<<<<< HEAD
   "execution_count": 7,
=======
   "execution_count": 15,
>>>>>>> chagen
=======
   "execution_count": 13,
>>>>>>> mhanisch
   "metadata": {},
   "outputs": [
    {
     "name": "stdout",
     "output_type": "stream",
     "text": [
<<<<<<< HEAD
<<<<<<< HEAD
      "Expectation values for each mode: [0.6108724975479718, 1.277215725623843, 1.16115519964165, 0.9507565771865292]\n"
=======
      "Expectation values for each mode: [1.7917901510047005, 0.862500264551823, 0.7614209670003264, 0.5842886174431536]\n"
>>>>>>> chagen
=======
      "Expectation values for each mode: [0.39055333003242104, 1.33559444762553, 1.6892300294642366, 1.5811042111365443, 1.003517981745142]\n"
>>>>>>> mhanisch
     ]
    }
   ],
   "source": [
    "# But first we need to specify and input state (We will look at what input state is the best later)\n",
    "input_state = pcvl.BasicState([2]*(m-2) + [0]*2)\n",
    "expectation_values = simulator.calculate_mode_expectations(input_state)\n",
    "print(\"Expectation values for each mode:\", expectation_values)\n"
   ]
<<<<<<< HEAD
<<<<<<< HEAD
=======
  },
  {
   "cell_type": "code",
   "execution_count": 16,
   "metadata": {},
   "outputs": [],
   "source": [
    "# TODO: implement my own simulation and function with examples"
   ]
  },
  {
   "cell_type": "code",
   "execution_count": 17,
   "metadata": {},
   "outputs": [
    {
     "name": "stdout",
     "output_type": "stream",
     "text": [
      "4.0000000000000036\n"
     ]
    }
   ],
   "source": [
    "print(sum(expectation_values))"
   ]
>>>>>>> chagen
=======
  },
  {
   "cell_type": "code",
   "execution_count": null,
   "metadata": {},
   "outputs": [],
   "source": []
>>>>>>> mhanisch
  }
 ],
 "metadata": {
  "kernelspec": {
   "display_name": "unloqc-EDF-1--jV6767a",
   "language": "python",
   "name": "python3"
  },
  "language_info": {
   "codemirror_mode": {
    "name": "ipython",
    "version": 3
   },
   "file_extension": ".py",
   "mimetype": "text/x-python",
   "name": "python",
   "nbconvert_exporter": "python",
   "pygments_lexer": "ipython3",
   "version": "3.10.12"
  }
 },
 "nbformat": 4,
 "nbformat_minor": 2
}
