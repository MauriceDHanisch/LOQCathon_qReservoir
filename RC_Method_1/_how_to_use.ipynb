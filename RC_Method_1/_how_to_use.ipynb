{
 "cells": [
  {
   "cell_type": "code",
   "execution_count": 7,
   "metadata": {},
   "outputs": [],
   "source": [
    "import perceval as pcvl\n",
    "from lo_reservoir import PhotonicReservoirSimulator\n",
    "\n",
    "# Here we define the parameters of the circuit\n",
    "m = 4 # number of modes -> gives us the output dimension of the reservoir\n",
    "t = 10 # number of time steps -> given by the data\n",
    "\n",
    "# Here we initialize the simulator\n",
    "simulator = PhotonicReservoirSimulator(m, t, overlapping=True) "
   ]
  },
  {
   "cell_type": "markdown",
   "metadata": {},
   "source": [
    "##### ```We can now give the simulator a data matrix which has a shape (t, num_of_parameters = t*5*(m-1) (if overlap))```\n"
   ]
  },
  {
   "cell_type": "code",
   "execution_count": 8,
   "metadata": {},
   "outputs": [
    {
     "name": "stdout",
     "output_type": "stream",
     "text": [
      "[[5.00570466 1.31861218 4.87868016 0.51628213 1.60055567 1.58174375\n",
      "  2.22333252 2.16026929 3.05077153 5.95366378 2.43476669 4.42600638\n",
      "  0.5355666  3.60009058 4.87687442]\n",
      " [0.46288577 4.2359687  1.05591081 3.83822325 1.00977863 2.88597459\n",
      "  1.23206841 4.12910939 5.53128678 4.14712692 5.13201402 1.14890779\n",
      "  2.16048386 2.28407326 1.7073594 ]\n",
      " [2.55458717 3.3440892  0.38529689 2.77974546 1.28309862 2.72397851\n",
      "  4.19428733 2.84185985 5.8789202  0.6205216  5.93872806 0.19723897\n",
      "  3.9006818  0.03520487 2.37349921]]\n"
     ]
    }
   ],
   "source": [
    "# Here we use a random matrix as an example and put it as a param matrix\n",
    "data = simulator.generate_rndm_param_matrix()\n",
    "print(data[:3])\n",
    "\n",
    "# Now we can give the circuit as parameters our data\n",
    "simulator.set_circuit_parameters(data)"
   ]
  },
  {
   "cell_type": "markdown",
   "metadata": {},
   "source": [
    "\n",
    "##### ```Now we can calculate the number expectation vector: [exp_mode_1, exp_mode_2, ..., exp_mode_m]```\n"
   ]
  },
  {
   "cell_type": "code",
   "execution_count": 15,
   "metadata": {},
   "outputs": [
    {
     "name": "stdout",
     "output_type": "stream",
     "text": [
      "Expectation values for each mode: [1.7917901510047005, 0.862500264551823, 0.7614209670003264, 0.5842886174431536]\n"
     ]
    }
   ],
   "source": [
    "# But first we need to specify and input state (We will look at what input state is the best later)\n",
    "input_state = pcvl.BasicState([2]*(m-2) + [0]*2)\n",
    "expectation_values = simulator.calculate_mode_expectations(input_state)\n",
    "print(\"Expectation values for each mode:\", expectation_values)\n"
   ]
  },
  {
   "cell_type": "code",
   "execution_count": 16,
   "metadata": {},
   "outputs": [],
   "source": [
    "# TODO: implement my own simulation and function with examples"
   ]
  },
  {
   "cell_type": "code",
   "execution_count": 17,
   "metadata": {},
   "outputs": [
    {
     "name": "stdout",
     "output_type": "stream",
     "text": [
      "4.0000000000000036\n"
     ]
    }
   ],
   "source": [
    "print(sum(expectation_values))"
   ]
  }
 ],
 "metadata": {
  "kernelspec": {
   "display_name": "unloqc-EDF-1--jV6767a",
   "language": "python",
   "name": "python3"
  },
  "language_info": {
   "codemirror_mode": {
    "name": "ipython",
    "version": 3
   },
   "file_extension": ".py",
   "mimetype": "text/x-python",
   "name": "python",
   "nbconvert_exporter": "python",
   "pygments_lexer": "ipython3",
   "version": "3.10.12"
  }
 },
 "nbformat": 4,
 "nbformat_minor": 2
}
