{
 "cells": [
  {
   "cell_type": "code",
   "execution_count": 1,
   "metadata": {},
   "outputs": [],
   "source": [
    "import perceval as pcvl\n",
    "from lo_reservoir import PhotonicReservoirSimulator\n",
    "\n",
    "# Here we define the parameters of the circuit\n",
    "m = 4 # number of modes -> gives us the output dimension of the reservoir\n",
    "t = 10 # number of time steps -> given by the data\n",
    "\n",
    "\n",
    "# Here we initialize the simulator\n",
    "simulator = PhotonicReservoirSimulator(m, t, overlapping=True) "
   ]
  },
  {
   "cell_type": "markdown",
   "metadata": {},
   "source": [
    "##### ```We can now give the simulator a data matrix which has a shape (t, num_of_parameters = t*5*(m-1) (if overlap))```\n"
   ]
  },
  {
   "cell_type": "code",
   "execution_count": 6,
   "metadata": {},
   "outputs": [
    {
     "name": "stdout",
     "output_type": "stream",
     "text": [
      "[[2.44887207 1.81274606 5.37852334 4.56442506 4.88345372 1.82798386\n",
      "  5.45996036 3.7329171  0.86120451 4.37195507 0.50213363 0.53572552\n",
      "  0.01838812 2.57026719 1.49861616]\n",
      " [2.99657755 0.50542866 0.42668564 3.6306404  1.13588479 5.68379793\n",
      "  0.96709981 2.61207679 6.05153123 4.92464237 2.26540081 3.99736859\n",
      "  3.57536895 2.98441404 4.46496854]\n",
      " [0.26195289 6.07225449 4.85778182 1.04037496 1.55110093 1.03965598\n",
      "  1.10200475 3.59411791 2.22521274 2.89517478 1.07852614 1.68460561\n",
      "  1.4491822  0.21505034 4.57519975]]\n"
     ]
    }
   ],
   "source": [
    "# Here we use a random matrix as an example and put it as a param matrix\n",
    "data = simulator.generate_rndm_param_matrix()\n",
    "print(data[:3])\n",
    "\n",
    "# Now we can give the circuit as parameters our data\n",
    "simulator.set_circuit_parameters(data)"
   ]
  },
  {
   "cell_type": "markdown",
   "metadata": {},
   "source": [
    "\n",
    "##### ```Now we can calculate the number expectation vector: [exp_mode_1, exp_mode_2, ..., exp_mode_m]```\n"
   ]
  },
  {
   "cell_type": "code",
   "execution_count": 7,
   "metadata": {},
   "outputs": [
    {
     "name": "stdout",
     "output_type": "stream",
     "text": [
      "Expectation values for each mode: [0.6108724975479718, 1.277215725623843, 1.16115519964165, 0.9507565771865292]\n"
     ]
    }
   ],
   "source": [
    "# But first we need to specify and input state (We will look at what input state is the best later)\n",
    "input_state = pcvl.BasicState([2]*(m-2) + [0]*2)\n",
    "expectation_values = simulator.calculate_mode_expectations(input_state)\n",
    "print(\"Expectation values for each mode:\", expectation_values)\n"
   ]
  }
 ],
 "metadata": {
  "kernelspec": {
   "display_name": "unloqc-EDF-1--jV6767a",
   "language": "python",
   "name": "python3"
  },
  "language_info": {
   "codemirror_mode": {
    "name": "ipython",
    "version": 3
   },
   "file_extension": ".py",
   "mimetype": "text/x-python",
   "name": "python",
   "nbconvert_exporter": "python",
   "pygments_lexer": "ipython3",
   "version": "3.10.12"
  }
 },
 "nbformat": 4,
 "nbformat_minor": 2
}
