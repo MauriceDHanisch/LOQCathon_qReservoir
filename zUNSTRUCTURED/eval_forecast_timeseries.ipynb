{
 "cells": [
  {
   "cell_type": "markdown",
   "metadata": {},
   "source": [
    "We propose a small framework for evaluating forecasts on time series data."
   ]
  },
  {
   "cell_type": "code",
   "execution_count": 2,
   "metadata": {},
   "outputs": [],
   "source": [
    "import numpy as np\n",
    "import pandas as pd\n",
    "from matplotlib import pyplot as plt\n",
    "\n"
   ]
  },
  {
   "cell_type": "code",
   "execution_count": 63,
   "metadata": {},
   "outputs": [],
   "source": [
    "class Evaluator:\n",
    "\n",
    "    data = None\n",
    "\n",
    "    def get_data_wind(self,points_for_predicting=20, nb_samples=100):\n",
    "        data_wind = pd.read_csv(\"wind_data_fr_2021.csv\", sep=\";\")\n",
    "        data = pd.DataFrame(columns = range(nb_samples), index= range(points_for_predicting+1))\n",
    "        n = points_for_predicting+1\n",
    "        self.data = data.apply(lambda c: data_wind[\"Eolien (MW)\"].iloc[(x:=np.random.randint(0, 17520-n)): x+n], result_type=\"broadcast\")\n",
    "        \n",
    "\n",
    "    def get_data_sine(self, points_for_predicting=20, a=1, nb_samples=100):\n",
    "        data = pd.DataFrame(columns = range(nb_samples), index= range(points_for_predicting+1))\n",
    "        self.data = data.apply(lambda x: [np.sin(100*np.random.rand() + a*phi) for phi in (np.linspace(0,1,num=points_for_predicting+1))], axis=0)\n",
    "\n",
    "    def __init__(self, nb_samples=100, seed=13, eval_mode = \"sine\"):\n",
    "        \n",
    "        if eval_mode not in [\"sine\", \"wind\"]:\n",
    "            raise TypeError(\"Please provide as 'eval_mode' argument either 'sine' or 'wind'.\")\n",
    "        np.random.seed(seed)\n",
    "\n",
    "        if eval_mode == \"sine\":\n",
    "            self.get_data_sine(points_for_predicting=20, nb_samples=nb_samples)\n",
    "        else:\n",
    "            self.get_data_wind(points_for_predicting=20, nb_samples=nb_samples)\n",
    "\n",
    "    def get_points_for_predicting(self):\n",
    "        return self.data.iloc[:20]\n",
    "\n",
    "    def get_labels(self):\n",
    "        return self.data.iloc[20]\n",
    "    \n",
    "    def eval_rmse(self, forecasts: np.array ):\n",
    "        ''' \n",
    "            evaluate the root mean squared error of the given forecasts\n",
    "         '''\n",
    "        rmse = sum(np.square(forecasts - self.data.iloc[-1].to_numpy()))\n",
    "        return np.sqrt(rmse)\n",
    "\n",
    "    def eval_rel_err(self, forecasts: np.array ):\n",
    "        ''' \n",
    "            evaluate the relative error of the given forecasts\n",
    "         '''\n",
    "        realized = self.data.iloc[-1].to_numpy()\n",
    "        rel_err = np.mean(np.abs((forecasts - realized)/realized))\n",
    "        return rel_err"
   ]
  },
  {
   "cell_type": "code",
   "execution_count": 73,
   "metadata": {},
   "outputs": [
    {
     "name": "stdout",
     "output_type": "stream",
     "text": [
      "RMSE of stupid forecasts : 2124.56\n",
      "relative error of stupid forecasts : 5.80%.\n"
     ]
    }
   ],
   "source": [
    "### test evaluators with stupid forecasts that take the last value as forecast\n",
    "wind_eval = Evaluator(eval_mode=\"wind\")\n",
    "points_training = wind_eval.data.iloc[:-1] ## all points of each column except the last one can be used to forecast this last one\n",
    "\n",
    "stupid_forecasts = points_training.iloc[-1].to_numpy()\n",
    "\n",
    "print(\"RMSE of stupid forecasts : {err:.2f}\".format(err=wind_eval.eval_rmse(stupid_forecasts)))\n",
    "print(\"relative error of stupid forecasts : {err:.2f}%.\".format(err= wind_eval.eval_rel_err(stupid_forecasts)*100))"
   ]
  }
 ],
 "metadata": {
  "kernelspec": {
   "display_name": "amont39",
   "language": "python",
   "name": "python3"
  },
  "language_info": {
   "codemirror_mode": {
    "name": "ipython",
    "version": 3
   },
   "file_extension": ".py",
   "mimetype": "text/x-python",
   "name": "python",
   "nbconvert_exporter": "python",
   "pygments_lexer": "ipython3",
   "version": "3.9.16"
  }
 },
 "nbformat": 4,
 "nbformat_minor": 2
}
