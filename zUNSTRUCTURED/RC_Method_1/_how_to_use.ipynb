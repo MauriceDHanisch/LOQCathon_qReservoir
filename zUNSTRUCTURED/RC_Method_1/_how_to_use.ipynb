{
 "cells": [
  {
   "cell_type": "code",
   "execution_count": 7,
   "metadata": {},
   "outputs": [],
   "source": [
    "import perceval as pcvl\n",
    "from lo_reservoir import PhotonicReservoirSimulator\n",
    "\n",
    "# Here we define the parameters of the circuit\n",
    "m = 5 # number of modes -> gives us the output dimension of the reservoir\n",
    "t = 10000 # number of time steps -> given by the data\n",
    "\n",
    "\n",
    "# Here we initialize the simulator\n",
    "simulator = PhotonicReservoirSimulator(m, t, overlapping=True) "
   ]
  },
  {
   "cell_type": "markdown",
   "metadata": {},
   "source": [
    "##### ```We can now give the simulator a data matrix which has a shape (t, num_of_parameters = t*5*(m-1) (if overlap))```\n"
   ]
  },
  {
   "cell_type": "code",
   "execution_count": 12,
   "metadata": {},
   "outputs": [
    {
     "name": "stdout",
     "output_type": "stream",
     "text": [
      "[[2.38730341 1.6283299  3.91858491 1.64848244 4.69761857 5.9752023\n",
      "  2.08964001 5.57212722 1.59465641 2.7629152  6.1805405  2.07541124\n",
      "  1.20969582 5.94724034 3.97796545 2.05796354 4.37801173 1.53544541\n",
      "  0.47226403 6.07213282]\n",
      " [0.69367732 3.09313977 0.59049229 2.25914676 0.05596264 1.72600642\n",
      "  0.0962967  2.56536704 3.62464228 1.68534832 0.38374468 4.72917133\n",
      "  5.86708446 0.33636268 5.964638   2.85033531 3.71291014 0.03785994\n",
      "  2.83724432 2.23901029]\n",
      " [2.35290743 2.25963511 5.32564743 3.89997911 1.73599646 2.81576242\n",
      "  2.32369269 2.87436724 2.456024   2.70934197 1.82048727 4.0517522\n",
      "  6.1167223  2.33375705 2.19190886 3.97592426 4.01389334 3.91980404\n",
      "  2.94522319 2.68960276]]\n"
     ]
    }
   ],
   "source": [
    "# Here we use a random matrix as an example and put it as a param matrix\n",
    "data = simulator.generate_rndm_param_matrix()\n",
    "print(data[:3])\n",
    "\n",
    "# Now we can give the circuit as parameters our data\n",
    "simulator.set_circuit_parameters(data)"
   ]
  },
  {
   "cell_type": "markdown",
   "metadata": {},
   "source": [
    "\n",
    "##### ```Now we can calculate the number expectation vector: [exp_mode_1, exp_mode_2, ..., exp_mode_m]```\n"
   ]
  },
  {
   "cell_type": "code",
   "execution_count": 13,
   "metadata": {},
   "outputs": [
    {
     "name": "stdout",
     "output_type": "stream",
     "text": [
      "Expectation values for each mode: [0.39055333003242104, 1.33559444762553, 1.6892300294642366, 1.5811042111365443, 1.003517981745142]\n"
     ]
    }
   ],
   "source": [
    "# But first we need to specify and input state (We will look at what input state is the best later)\n",
    "input_state = pcvl.BasicState([2]*(m-2) + [0]*2)\n",
    "expectation_values = simulator.calculate_mode_expectations(input_state)\n",
    "print(\"Expectation values for each mode:\", expectation_values)\n"
   ]
  },
  {
   "cell_type": "code",
   "execution_count": null,
   "metadata": {},
   "outputs": [],
   "source": []
  }
 ],
 "metadata": {
  "kernelspec": {
   "display_name": "unloqc-EDF-1--jV6767a",
   "language": "python",
   "name": "python3"
  },
  "language_info": {
   "codemirror_mode": {
    "name": "ipython",
    "version": 3
   },
   "file_extension": ".py",
   "mimetype": "text/x-python",
   "name": "python",
   "nbconvert_exporter": "python",
   "pygments_lexer": "ipython3",
   "version": "3.10.12"
  }
 },
 "nbformat": 4,
 "nbformat_minor": 2
}
