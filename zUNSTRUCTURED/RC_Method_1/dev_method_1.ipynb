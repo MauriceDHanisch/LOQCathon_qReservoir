{
 "cells": [
  {
   "cell_type": "code",
   "execution_count": 6,
   "metadata": {},
   "outputs": [],
   "source": [
    "import perceval as pcvl\n",
    "import numpy as np  "
   ]
  },
  {
   "cell_type": "markdown",
   "metadata": {},
   "source": [
    "# Create the circuit"
   ]
  },
  {
   "cell_type": "code",
   "execution_count": 7,
   "metadata": {},
   "outputs": [
    {
     "data": {
      "image/svg+xml": [
       "<?xml version=\"1.0\" encoding=\"UTF-8\"?>\n",
       "<svg xmlns=\"http://www.w3.org/2000/svg\" xmlns:xlink=\"http://www.w3.org/1999/xlink\"\n",
       "     width=\"382.5\" height=\"156.25\" viewBox=\"-28.0 0 306.0 125.0\">\n",
       "<defs>\n",
       "</defs>\n",
       "<path d=\"M10,25 L25,25\" stroke-width=\"3\" stroke=\"darkred\" stroke-linejoin=\"miter\" fill=\"none\" />\n",
       "<path d=\"M10,75 L25,75\" stroke-width=\"3\" stroke=\"darkred\" stroke-linejoin=\"miter\" fill=\"none\" />\n",
       "<path d=\"M25,25 L75,25\" stroke=\"darkred\" stroke-width=\"3\" fill=\"none\" />\n",
       "<path d=\"M30,40 L39,40 L53,10 L44,10 L30,40 L39,40 Z\" stroke=\"black\" fill=\"gray\" stroke-linejoin=\"miter\" />\n",
       "<text x=\"47\" y=\"38\" font-size=\"7\" text-anchor=\"start\">Φ=phi_tl_12_t0</text>\n",
       "<path d=\"M25,75 L75,75\" stroke=\"darkred\" stroke-width=\"3\" fill=\"none\" />\n",
       "<path d=\"M30,90 L39,90 L53,60 L44,60 L30,90 L39,90 Z\" stroke=\"black\" fill=\"gray\" stroke-linejoin=\"miter\" />\n",
       "<text x=\"47\" y=\"88\" font-size=\"7\" text-anchor=\"start\">Φ=phi_bl_12_t0</text>\n",
       "<path d=\"M75,25 L103,25 L122,44\" stroke=\"darkred\" stroke-width=\"3\" fill=\"none\" />\n",
       "<path d=\"M128,44 L147,25 L175,25\" stroke=\"darkred\" stroke-width=\"3\" fill=\"none\" />\n",
       "<path d=\"M75,75 L103,75 L122,56\" stroke=\"darkred\" stroke-width=\"3\" fill=\"none\" />\n",
       "<path d=\"M128,56 L147,75 L175,75\" stroke=\"darkred\" stroke-width=\"3\" fill=\"none\" />\n",
       "<path d=\"M100,43 L150,43 L150,57 L100,57 Z\" stroke=\"black\" fill=\"black\" stroke-linejoin=\"miter\" />\n",
       "<text x=\"125\" y=\"80\" font-size=\"7\" text-anchor=\"middle\"></text>\n",
       "<text x=\"125\" y=\"26\" font-size=\"7\" text-anchor=\"middle\">Θ=theta_12_t0</text>\n",
       "<path d=\"M100,43 L150,43 L150,47 L100,47 Z\" stroke=\"black\" fill=\"lightgray\" stroke-linejoin=\"miter\" />\n",
       "<path d=\"M143,50 L153,50 L153,60 L143,60 Z\" stroke=\"black\" fill=\"thistle\" stroke-linejoin=\"miter\" />\n",
       "<text x=\"148\" y=\"57\" font-size=\"6\" text-anchor=\"middle\">Rx</text>\n",
       "<path d=\"M175,25 L225,25\" stroke=\"darkred\" stroke-width=\"3\" fill=\"none\" />\n",
       "<path d=\"M180,40 L189,40 L203,10 L194,10 L180,40 L189,40 Z\" stroke=\"black\" fill=\"gray\" stroke-linejoin=\"miter\" />\n",
       "<text x=\"197\" y=\"38\" font-size=\"7\" text-anchor=\"start\">Φ=phi_tr_12_t0</text>\n",
       "<path d=\"M175,75 L225,75\" stroke=\"darkred\" stroke-width=\"3\" fill=\"none\" />\n",
       "<path d=\"M180,90 L189,90 L203,60 L194,60 L180,90 L189,90 Z\" stroke=\"black\" fill=\"gray\" stroke-linejoin=\"miter\" />\n",
       "<text x=\"197\" y=\"88\" font-size=\"7\" text-anchor=\"start\">Φ=phi_br_12_t0</text>\n",
       "<path d=\"M225,25 L240,25\" stroke-width=\"3\" stroke=\"darkred\" stroke-linejoin=\"miter\" fill=\"none\" />\n",
       "<path d=\"M225,75 L240,75\" stroke-width=\"3\" stroke=\"darkred\" stroke-linejoin=\"miter\" fill=\"none\" />\n",
       "<text x=\"250\" y=\"28\" font-size=\"6\" text-anchor=\"end\">0</text>\n",
       "<text x=\"250\" y=\"78\" font-size=\"6\" text-anchor=\"end\">1</text>\n",
       "<text x=\"0\" y=\"28\" font-size=\"6\" text-anchor=\"start\">0</text>\n",
       "<text x=\"0\" y=\"78\" font-size=\"6\" text-anchor=\"start\">1</text>\n",
       "</svg>"
      ],
      "text/plain": [
       "<drawsvg.drawing.Drawing at 0x12ad60f70>"
      ]
     },
     "execution_count": 7,
     "metadata": {},
     "output_type": "execute_result"
    }
   ],
   "source": [
    "def U_ij_t(i : int , j : int, t : int = 0):\n",
    "    \"\"\"Returns the unitary acting on mode i and j.\"\"\"\n",
    "    return (pcvl.Circuit(2, name=f\"U_{i}{j}_t{t}\")\n",
    "            .add(0, pcvl.PS(phi=pcvl.P(f\"phi_tl_{i}{j}_t{t}\")))\n",
    "            .add(1, pcvl.PS(phi=pcvl.P(f\"phi_bl_{i}{j}_t{t}\")))\n",
    "            .add(0, pcvl.BS(theta=pcvl.P(f'theta_{i}{j}_t{t}')))\n",
    "            .add(0, pcvl.PS(phi=pcvl.P(f\"phi_tr_{i}{j}_t{t}\")))\n",
    "            .add(1, pcvl.PS(phi=pcvl.P(f\"phi_br_{i}{j}_t{t}\"))))\n",
    "\n",
    "U_12 = U_ij_t(1, 2)\n",
    "pcvl.pdisplay(U_12)"
   ]
  },
  {
   "cell_type": "code",
   "execution_count": 8,
   "metadata": {},
   "outputs": [
    {
     "data": {
      "image/svg+xml": [
       "<?xml version=\"1.0\" encoding=\"UTF-8\"?>\n",
       "<svg xmlns=\"http://www.w3.org/2000/svg\" xmlns:xlink=\"http://www.w3.org/1999/xlink\"\n",
       "     width=\"758.75\" height=\"406.25\" viewBox=\"-28.5 0 607.0 325.0\">\n",
       "<defs>\n",
       "</defs>\n",
       "<path d=\"M10,25 L25,25\" stroke-width=\"3\" stroke=\"darkred\" stroke-linejoin=\"miter\" fill=\"none\" />\n",
       "<path d=\"M10,75 L25,75\" stroke-width=\"3\" stroke=\"darkred\" stroke-linejoin=\"miter\" fill=\"none\" />\n",
       "<path d=\"M10,125 L25,125\" stroke-width=\"3\" stroke=\"darkred\" stroke-linejoin=\"miter\" fill=\"none\" />\n",
       "<path d=\"M10,175 L25,175\" stroke-width=\"3\" stroke=\"darkred\" stroke-linejoin=\"miter\" fill=\"none\" />\n",
       "<path d=\"M10,225 L25,225\" stroke-width=\"3\" stroke=\"darkred\" stroke-linejoin=\"miter\" fill=\"none\" />\n",
       "<path d=\"M10,275 L25,275\" stroke-width=\"3\" stroke=\"darkred\" stroke-linejoin=\"miter\" fill=\"none\" />\n",
       "<path d=\"M25,25 L125,25\" stroke=\"darkred\" stroke-width=\"3\" fill=\"none\" />\n",
       "<path d=\"M25,75 L125,75\" stroke=\"darkred\" stroke-width=\"3\" fill=\"none\" />\n",
       "<path d=\"M27.5,2.5 L122.5,2.5 L122.5,97.5 L27.5,97.5 Z\" stroke=\"darkred\" fill=\"lightpink\" stroke-linejoin=\"miter\" />\n",
       "<text x=\"35\" y=\"16\" font-size=\"8\" text-anchor=\"start\" font-weight=\"bold\">U_01_T2</text>\n",
       "<path d=\"M25,125 L125,125\" stroke=\"darkred\" stroke-width=\"3\" fill=\"none\" />\n",
       "<path d=\"M125,75 L225,75\" stroke=\"darkred\" stroke-width=\"3\" fill=\"none\" />\n",
       "<path d=\"M125,125 L225,125\" stroke=\"darkred\" stroke-width=\"3\" fill=\"none\" />\n",
       "<path d=\"M127.5,52.5 L222.5,52.5 L222.5,147.5 L127.5,147.5 Z\" stroke=\"darkred\" fill=\"lightpink\" stroke-linejoin=\"miter\" />\n",
       "<text x=\"135\" y=\"66\" font-size=\"8\" text-anchor=\"start\" font-weight=\"bold\">U_12_T2</text>\n",
       "<path d=\"M25,175 L225,175\" stroke=\"darkred\" stroke-width=\"3\" fill=\"none\" />\n",
       "<path d=\"M225,125 L325,125\" stroke=\"darkred\" stroke-width=\"3\" fill=\"none\" />\n",
       "<path d=\"M225,175 L325,175\" stroke=\"darkred\" stroke-width=\"3\" fill=\"none\" />\n",
       "<path d=\"M227.5,102.5 L322.5,102.5 L322.5,197.5 L227.5,197.5 Z\" stroke=\"darkred\" fill=\"lightpink\" stroke-linejoin=\"miter\" />\n",
       "<text x=\"235\" y=\"116\" font-size=\"8\" text-anchor=\"start\" font-weight=\"bold\">U_23_T2</text>\n",
       "<path d=\"M25,225 L325,225\" stroke=\"darkred\" stroke-width=\"3\" fill=\"none\" />\n",
       "<path d=\"M325,175 L425,175\" stroke=\"darkred\" stroke-width=\"3\" fill=\"none\" />\n",
       "<path d=\"M325,225 L425,225\" stroke=\"darkred\" stroke-width=\"3\" fill=\"none\" />\n",
       "<path d=\"M327.5,152.5 L422.5,152.5 L422.5,247.5 L327.5,247.5 Z\" stroke=\"darkred\" fill=\"lightpink\" stroke-linejoin=\"miter\" />\n",
       "<text x=\"335\" y=\"166\" font-size=\"8\" text-anchor=\"start\" font-weight=\"bold\">U_34_T2</text>\n",
       "<path d=\"M25,275 L425,275\" stroke=\"darkred\" stroke-width=\"3\" fill=\"none\" />\n",
       "<path d=\"M425,225 L525,225\" stroke=\"darkred\" stroke-width=\"3\" fill=\"none\" />\n",
       "<path d=\"M425,275 L525,275\" stroke=\"darkred\" stroke-width=\"3\" fill=\"none\" />\n",
       "<path d=\"M427.5,202.5 L522.5,202.5 L522.5,297.5 L427.5,297.5 Z\" stroke=\"darkred\" fill=\"lightpink\" stroke-linejoin=\"miter\" />\n",
       "<text x=\"435\" y=\"216\" font-size=\"8\" text-anchor=\"start\" font-weight=\"bold\">U_45_T2</text>\n",
       "<path d=\"M125,25 L525,25\" stroke=\"darkred\" stroke-width=\"3\" fill=\"none\" />\n",
       "<path d=\"M225,75 L525,75\" stroke=\"darkred\" stroke-width=\"3\" fill=\"none\" />\n",
       "<path d=\"M325,125 L525,125\" stroke=\"darkred\" stroke-width=\"3\" fill=\"none\" />\n",
       "<path d=\"M425,175 L525,175\" stroke=\"darkred\" stroke-width=\"3\" fill=\"none\" />\n",
       "<path d=\"M525,25 L540,25\" stroke-width=\"3\" stroke=\"darkred\" stroke-linejoin=\"miter\" fill=\"none\" />\n",
       "<path d=\"M525,75 L540,75\" stroke-width=\"3\" stroke=\"darkred\" stroke-linejoin=\"miter\" fill=\"none\" />\n",
       "<path d=\"M525,125 L540,125\" stroke-width=\"3\" stroke=\"darkred\" stroke-linejoin=\"miter\" fill=\"none\" />\n",
       "<path d=\"M525,175 L540,175\" stroke-width=\"3\" stroke=\"darkred\" stroke-linejoin=\"miter\" fill=\"none\" />\n",
       "<path d=\"M525,225 L540,225\" stroke-width=\"3\" stroke=\"darkred\" stroke-linejoin=\"miter\" fill=\"none\" />\n",
       "<path d=\"M525,275 L540,275\" stroke-width=\"3\" stroke=\"darkred\" stroke-linejoin=\"miter\" fill=\"none\" />\n",
       "<text x=\"550\" y=\"28\" font-size=\"7\" text-anchor=\"end\">0</text>\n",
       "<text x=\"550\" y=\"78\" font-size=\"7\" text-anchor=\"end\">1</text>\n",
       "<text x=\"550\" y=\"128\" font-size=\"7\" text-anchor=\"end\">2</text>\n",
       "<text x=\"550\" y=\"178\" font-size=\"7\" text-anchor=\"end\">3</text>\n",
       "<text x=\"550\" y=\"228\" font-size=\"7\" text-anchor=\"end\">4</text>\n",
       "<text x=\"550\" y=\"278\" font-size=\"7\" text-anchor=\"end\">5</text>\n",
       "<text x=\"0\" y=\"28\" font-size=\"7\" text-anchor=\"start\">0</text>\n",
       "<text x=\"0\" y=\"78\" font-size=\"7\" text-anchor=\"start\">1</text>\n",
       "<text x=\"0\" y=\"128\" font-size=\"7\" text-anchor=\"start\">2</text>\n",
       "<text x=\"0\" y=\"178\" font-size=\"7\" text-anchor=\"start\">3</text>\n",
       "<text x=\"0\" y=\"228\" font-size=\"7\" text-anchor=\"start\">4</text>\n",
       "<text x=\"0\" y=\"278\" font-size=\"7\" text-anchor=\"start\">5</text>\n",
       "</svg>"
      ],
      "text/plain": [
       "<drawsvg.drawing.Drawing at 0x12ad61450>"
      ]
     },
     "execution_count": 8,
     "metadata": {},
     "output_type": "execute_result"
    }
   ],
   "source": [
    "def full_layer(n : int, t : int = 0, _overlapping : bool = False):\n",
    "    layer = pcvl.Circuit(n)\n",
    "    if _overlapping:\n",
    "        for i in range(n-1):\n",
    "            layer = layer.add(i, U_ij_t(i, (i+1), t))\n",
    "    else:\n",
    "        if n % 2 != 0:\n",
    "            print(\"WARNING: The number is not even and _overlapping is False => the last mode will be ignored.\")\n",
    "        for i in range((n)//2):\n",
    "            layer = layer.add(2*i, U_ij_t(i, i+1, t))\n",
    "    return layer\n",
    "\n",
    "layer = full_layer(6, 2, True)\n",
    "pcvl.pdisplay(layer)"
   ]
  },
  {
   "cell_type": "code",
   "execution_count": 9,
   "metadata": {},
   "outputs": [
    {
     "data": {
      "image/svg+xml": [
       "<?xml version=\"1.0\" encoding=\"UTF-8\"?>\n",
       "<svg xmlns=\"http://www.w3.org/2000/svg\" xmlns:xlink=\"http://www.w3.org/1999/xlink\"\n",
       "     width=\"2598.125\" height=\"406.25\" viewBox=\"-28.5 0 2078.5 325.0\">\n",
       "<defs>\n",
       "</defs>\n",
       "<path d=\"M10,25 L25,25\" stroke-width=\"3\" stroke=\"darkred\" stroke-linejoin=\"miter\" fill=\"none\" />\n",
       "<path d=\"M10,75 L25,75\" stroke-width=\"3\" stroke=\"darkred\" stroke-linejoin=\"miter\" fill=\"none\" />\n",
       "<path d=\"M10,125 L25,125\" stroke-width=\"3\" stroke=\"darkred\" stroke-linejoin=\"miter\" fill=\"none\" />\n",
       "<path d=\"M10,175 L25,175\" stroke-width=\"3\" stroke=\"darkred\" stroke-linejoin=\"miter\" fill=\"none\" />\n",
       "<path d=\"M10,225 L25,225\" stroke-width=\"3\" stroke=\"darkred\" stroke-linejoin=\"miter\" fill=\"none\" />\n",
       "<path d=\"M10,275 L25,275\" stroke-width=\"3\" stroke=\"darkred\" stroke-linejoin=\"miter\" fill=\"none\" />\n",
       "<path d=\"M27,2 L1023,2 L1023,298 L27,298 Z\" stroke=\"black\" fill=\"lightblue\" stroke-dasharray=\"1,2\" stroke-linejoin=\"miter\" />\n",
       "<text x=\"29\" y=\"305\" font-size=\"8\" text-anchor=\"start\">CPLX</text>\n",
       "<path d=\"M25,25 L125,25\" stroke=\"darkred\" stroke-width=\"3\" fill=\"none\" />\n",
       "<path d=\"M25,75 L125,75\" stroke=\"darkred\" stroke-width=\"3\" fill=\"none\" />\n",
       "<path d=\"M27.5,2.5 L122.5,2.5 L122.5,97.5 L27.5,97.5 Z\" stroke=\"darkred\" fill=\"lightpink\" stroke-linejoin=\"miter\" />\n",
       "<text x=\"35\" y=\"16\" font-size=\"8\" text-anchor=\"start\" font-weight=\"bold\">U_01_T0</text>\n",
       "<path d=\"M25,125 L125,125\" stroke=\"darkred\" stroke-width=\"3\" fill=\"none\" />\n",
       "<path d=\"M125,75 L225,75\" stroke=\"darkred\" stroke-width=\"3\" fill=\"none\" />\n",
       "<path d=\"M125,125 L225,125\" stroke=\"darkred\" stroke-width=\"3\" fill=\"none\" />\n",
       "<path d=\"M127.5,52.5 L222.5,52.5 L222.5,147.5 L127.5,147.5 Z\" stroke=\"darkred\" fill=\"lightpink\" stroke-linejoin=\"miter\" />\n",
       "<text x=\"135\" y=\"66\" font-size=\"8\" text-anchor=\"start\" font-weight=\"bold\">U_12_T0</text>\n",
       "<path d=\"M25,175 L225,175\" stroke=\"darkred\" stroke-width=\"3\" fill=\"none\" />\n",
       "<path d=\"M225,125 L325,125\" stroke=\"darkred\" stroke-width=\"3\" fill=\"none\" />\n",
       "<path d=\"M225,175 L325,175\" stroke=\"darkred\" stroke-width=\"3\" fill=\"none\" />\n",
       "<path d=\"M227.5,102.5 L322.5,102.5 L322.5,197.5 L227.5,197.5 Z\" stroke=\"darkred\" fill=\"lightpink\" stroke-linejoin=\"miter\" />\n",
       "<text x=\"235\" y=\"116\" font-size=\"8\" text-anchor=\"start\" font-weight=\"bold\">U_23_T0</text>\n",
       "<path d=\"M25,225 L325,225\" stroke=\"darkred\" stroke-width=\"3\" fill=\"none\" />\n",
       "<path d=\"M325,175 L425,175\" stroke=\"darkred\" stroke-width=\"3\" fill=\"none\" />\n",
       "<path d=\"M325,225 L425,225\" stroke=\"darkred\" stroke-width=\"3\" fill=\"none\" />\n",
       "<path d=\"M327.5,152.5 L422.5,152.5 L422.5,247.5 L327.5,247.5 Z\" stroke=\"darkred\" fill=\"lightpink\" stroke-linejoin=\"miter\" />\n",
       "<text x=\"335\" y=\"166\" font-size=\"8\" text-anchor=\"start\" font-weight=\"bold\">U_34_T0</text>\n",
       "<path d=\"M25,275 L425,275\" stroke=\"darkred\" stroke-width=\"3\" fill=\"none\" />\n",
       "<path d=\"M425,225 L525,225\" stroke=\"darkred\" stroke-width=\"3\" fill=\"none\" />\n",
       "<path d=\"M425,275 L525,275\" stroke=\"darkred\" stroke-width=\"3\" fill=\"none\" />\n",
       "<path d=\"M427.5,202.5 L522.5,202.5 L522.5,297.5 L427.5,297.5 Z\" stroke=\"darkred\" fill=\"lightpink\" stroke-linejoin=\"miter\" />\n",
       "<text x=\"435\" y=\"216\" font-size=\"8\" text-anchor=\"start\" font-weight=\"bold\">U_45_T0</text>\n",
       "<path d=\"M125,25 L525,25\" stroke=\"darkred\" stroke-width=\"3\" fill=\"none\" />\n",
       "<path d=\"M225,75 L525,75\" stroke=\"darkred\" stroke-width=\"3\" fill=\"none\" />\n",
       "<path d=\"M325,125 L525,125\" stroke=\"darkred\" stroke-width=\"3\" fill=\"none\" />\n",
       "<path d=\"M425,175 L525,175\" stroke=\"darkred\" stroke-width=\"3\" fill=\"none\" />\n",
       "<path d=\"M527,2 L1523,2 L1523,298 L527,298 Z\" stroke=\"black\" fill=\"lightblue\" stroke-dasharray=\"1,2\" stroke-linejoin=\"miter\" />\n",
       "<text x=\"529\" y=\"305\" font-size=\"8\" text-anchor=\"start\">CPLX</text>\n",
       "<path d=\"M525,25 L625,25\" stroke=\"darkred\" stroke-width=\"3\" fill=\"none\" />\n",
       "<path d=\"M525,75 L625,75\" stroke=\"darkred\" stroke-width=\"3\" fill=\"none\" />\n",
       "<path d=\"M527.5,2.5 L622.5,2.5 L622.5,97.5 L527.5,97.5 Z\" stroke=\"darkred\" fill=\"lightpink\" stroke-linejoin=\"miter\" />\n",
       "<text x=\"535\" y=\"16\" font-size=\"8\" text-anchor=\"start\" font-weight=\"bold\">U_01_T1</text>\n",
       "<path d=\"M525,125 L625,125\" stroke=\"darkred\" stroke-width=\"3\" fill=\"none\" />\n",
       "<path d=\"M625,75 L725,75\" stroke=\"darkred\" stroke-width=\"3\" fill=\"none\" />\n",
       "<path d=\"M625,125 L725,125\" stroke=\"darkred\" stroke-width=\"3\" fill=\"none\" />\n",
       "<path d=\"M627.5,52.5 L722.5,52.5 L722.5,147.5 L627.5,147.5 Z\" stroke=\"darkred\" fill=\"lightpink\" stroke-linejoin=\"miter\" />\n",
       "<text x=\"635\" y=\"66\" font-size=\"8\" text-anchor=\"start\" font-weight=\"bold\">U_12_T1</text>\n",
       "<path d=\"M525,175 L725,175\" stroke=\"darkred\" stroke-width=\"3\" fill=\"none\" />\n",
       "<path d=\"M725,125 L825,125\" stroke=\"darkred\" stroke-width=\"3\" fill=\"none\" />\n",
       "<path d=\"M725,175 L825,175\" stroke=\"darkred\" stroke-width=\"3\" fill=\"none\" />\n",
       "<path d=\"M727.5,102.5 L822.5,102.5 L822.5,197.5 L727.5,197.5 Z\" stroke=\"darkred\" fill=\"lightpink\" stroke-linejoin=\"miter\" />\n",
       "<text x=\"735\" y=\"116\" font-size=\"8\" text-anchor=\"start\" font-weight=\"bold\">U_23_T1</text>\n",
       "<path d=\"M525,225 L825,225\" stroke=\"darkred\" stroke-width=\"3\" fill=\"none\" />\n",
       "<path d=\"M825,175 L925,175\" stroke=\"darkred\" stroke-width=\"3\" fill=\"none\" />\n",
       "<path d=\"M825,225 L925,225\" stroke=\"darkred\" stroke-width=\"3\" fill=\"none\" />\n",
       "<path d=\"M827.5,152.5 L922.5,152.5 L922.5,247.5 L827.5,247.5 Z\" stroke=\"darkred\" fill=\"lightpink\" stroke-linejoin=\"miter\" />\n",
       "<text x=\"835\" y=\"166\" font-size=\"8\" text-anchor=\"start\" font-weight=\"bold\">U_34_T1</text>\n",
       "<path d=\"M525,275 L925,275\" stroke=\"darkred\" stroke-width=\"3\" fill=\"none\" />\n",
       "<path d=\"M925,225 L1025,225\" stroke=\"darkred\" stroke-width=\"3\" fill=\"none\" />\n",
       "<path d=\"M925,275 L1025,275\" stroke=\"darkred\" stroke-width=\"3\" fill=\"none\" />\n",
       "<path d=\"M927.5,202.5 L1022.5,202.5 L1022.5,297.5 L927.5,297.5 Z\" stroke=\"darkred\" fill=\"lightpink\" stroke-linejoin=\"miter\" />\n",
       "<text x=\"935\" y=\"216\" font-size=\"8\" text-anchor=\"start\" font-weight=\"bold\">U_45_T1</text>\n",
       "<path d=\"M625,25 L1025,25\" stroke=\"darkred\" stroke-width=\"3\" fill=\"none\" />\n",
       "<path d=\"M725,75 L1025,75\" stroke=\"darkred\" stroke-width=\"3\" fill=\"none\" />\n",
       "<path d=\"M825,125 L1025,125\" stroke=\"darkred\" stroke-width=\"3\" fill=\"none\" />\n",
       "<path d=\"M925,175 L1025,175\" stroke=\"darkred\" stroke-width=\"3\" fill=\"none\" />\n",
       "<path d=\"M1027,2 L2023,2 L2023,298 L1027,298 Z\" stroke=\"black\" fill=\"lightblue\" stroke-dasharray=\"1,2\" stroke-linejoin=\"miter\" />\n",
       "<text x=\"1029\" y=\"305\" font-size=\"8\" text-anchor=\"start\">CPLX</text>\n",
       "<path d=\"M1025,25 L1125,25\" stroke=\"darkred\" stroke-width=\"3\" fill=\"none\" />\n",
       "<path d=\"M1025,75 L1125,75\" stroke=\"darkred\" stroke-width=\"3\" fill=\"none\" />\n",
       "<path d=\"M1027.5,2.5 L1122.5,2.5 L1122.5,97.5 L1027.5,97.5 Z\" stroke=\"darkred\" fill=\"lightpink\" stroke-linejoin=\"miter\" />\n",
       "<text x=\"1035\" y=\"16\" font-size=\"8\" text-anchor=\"start\" font-weight=\"bold\">U_01_T2</text>\n",
       "<path d=\"M1025,125 L1125,125\" stroke=\"darkred\" stroke-width=\"3\" fill=\"none\" />\n",
       "<path d=\"M1125,75 L1225,75\" stroke=\"darkred\" stroke-width=\"3\" fill=\"none\" />\n",
       "<path d=\"M1125,125 L1225,125\" stroke=\"darkred\" stroke-width=\"3\" fill=\"none\" />\n",
       "<path d=\"M1127.5,52.5 L1222.5,52.5 L1222.5,147.5 L1127.5,147.5 Z\" stroke=\"darkred\" fill=\"lightpink\" stroke-linejoin=\"miter\" />\n",
       "<text x=\"1135\" y=\"66\" font-size=\"8\" text-anchor=\"start\" font-weight=\"bold\">U_12_T2</text>\n",
       "<path d=\"M1025,175 L1225,175\" stroke=\"darkred\" stroke-width=\"3\" fill=\"none\" />\n",
       "<path d=\"M1225,125 L1325,125\" stroke=\"darkred\" stroke-width=\"3\" fill=\"none\" />\n",
       "<path d=\"M1225,175 L1325,175\" stroke=\"darkred\" stroke-width=\"3\" fill=\"none\" />\n",
       "<path d=\"M1227.5,102.5 L1322.5,102.5 L1322.5,197.5 L1227.5,197.5 Z\" stroke=\"darkred\" fill=\"lightpink\" stroke-linejoin=\"miter\" />\n",
       "<text x=\"1235\" y=\"116\" font-size=\"8\" text-anchor=\"start\" font-weight=\"bold\">U_23_T2</text>\n",
       "<path d=\"M1025,225 L1325,225\" stroke=\"darkred\" stroke-width=\"3\" fill=\"none\" />\n",
       "<path d=\"M1325,175 L1425,175\" stroke=\"darkred\" stroke-width=\"3\" fill=\"none\" />\n",
       "<path d=\"M1325,225 L1425,225\" stroke=\"darkred\" stroke-width=\"3\" fill=\"none\" />\n",
       "<path d=\"M1327.5,152.5 L1422.5,152.5 L1422.5,247.5 L1327.5,247.5 Z\" stroke=\"darkred\" fill=\"lightpink\" stroke-linejoin=\"miter\" />\n",
       "<text x=\"1335\" y=\"166\" font-size=\"8\" text-anchor=\"start\" font-weight=\"bold\">U_34_T2</text>\n",
       "<path d=\"M1025,275 L1425,275\" stroke=\"darkred\" stroke-width=\"3\" fill=\"none\" />\n",
       "<path d=\"M1425,225 L1525,225\" stroke=\"darkred\" stroke-width=\"3\" fill=\"none\" />\n",
       "<path d=\"M1425,275 L1525,275\" stroke=\"darkred\" stroke-width=\"3\" fill=\"none\" />\n",
       "<path d=\"M1427.5,202.5 L1522.5,202.5 L1522.5,297.5 L1427.5,297.5 Z\" stroke=\"darkred\" fill=\"lightpink\" stroke-linejoin=\"miter\" />\n",
       "<text x=\"1435\" y=\"216\" font-size=\"8\" text-anchor=\"start\" font-weight=\"bold\">U_45_T2</text>\n",
       "<path d=\"M1125,25 L1525,25\" stroke=\"darkred\" stroke-width=\"3\" fill=\"none\" />\n",
       "<path d=\"M1225,75 L1525,75\" stroke=\"darkred\" stroke-width=\"3\" fill=\"none\" />\n",
       "<path d=\"M1325,125 L1525,125\" stroke=\"darkred\" stroke-width=\"3\" fill=\"none\" />\n",
       "<path d=\"M1425,175 L1525,175\" stroke=\"darkred\" stroke-width=\"3\" fill=\"none\" />\n",
       "<path d=\"M1525,25 L1540,25\" stroke-width=\"3\" stroke=\"darkred\" stroke-linejoin=\"miter\" fill=\"none\" />\n",
       "<path d=\"M1525,75 L1540,75\" stroke-width=\"3\" stroke=\"darkred\" stroke-linejoin=\"miter\" fill=\"none\" />\n",
       "<path d=\"M1525,125 L1540,125\" stroke-width=\"3\" stroke=\"darkred\" stroke-linejoin=\"miter\" fill=\"none\" />\n",
       "<path d=\"M1525,175 L1540,175\" stroke-width=\"3\" stroke=\"darkred\" stroke-linejoin=\"miter\" fill=\"none\" />\n",
       "<path d=\"M1525,225 L1540,225\" stroke-width=\"3\" stroke=\"darkred\" stroke-linejoin=\"miter\" fill=\"none\" />\n",
       "<path d=\"M1525,275 L1540,275\" stroke-width=\"3\" stroke=\"darkred\" stroke-linejoin=\"miter\" fill=\"none\" />\n",
       "<text x=\"1550\" y=\"28\" font-size=\"7\" text-anchor=\"end\">0</text>\n",
       "<text x=\"1550\" y=\"78\" font-size=\"7\" text-anchor=\"end\">1</text>\n",
       "<text x=\"1550\" y=\"128\" font-size=\"7\" text-anchor=\"end\">2</text>\n",
       "<text x=\"1550\" y=\"178\" font-size=\"7\" text-anchor=\"end\">3</text>\n",
       "<text x=\"1550\" y=\"228\" font-size=\"7\" text-anchor=\"end\">4</text>\n",
       "<text x=\"1550\" y=\"278\" font-size=\"7\" text-anchor=\"end\">5</text>\n",
       "<text x=\"0\" y=\"28\" font-size=\"7\" text-anchor=\"start\">0</text>\n",
       "<text x=\"0\" y=\"78\" font-size=\"7\" text-anchor=\"start\">1</text>\n",
       "<text x=\"0\" y=\"128\" font-size=\"7\" text-anchor=\"start\">2</text>\n",
       "<text x=\"0\" y=\"178\" font-size=\"7\" text-anchor=\"start\">3</text>\n",
       "<text x=\"0\" y=\"228\" font-size=\"7\" text-anchor=\"start\">4</text>\n",
       "<text x=\"0\" y=\"278\" font-size=\"7\" text-anchor=\"start\">5</text>\n",
       "</svg>"
      ],
      "text/plain": [
       "<drawsvg.drawing.Drawing at 0x12ad82c50>"
      ]
     },
     "execution_count": 9,
     "metadata": {},
     "output_type": "execute_result"
    }
   ],
   "source": [
    "def create_circuit(n, t, _overlapping=False):\n",
    "    main_circuit = pcvl.Circuit(n)\n",
    "    for t in range(t):\n",
    "        main_circuit = main_circuit.add(0, full_layer(n, t, _overlapping), merge=False)\n",
    "    return main_circuit\n",
    "\n",
    "# Example usage:\n",
    "m = 6  # Number of modes\n",
    "t = 3  # Number of times to repeat the layers\n",
    "circuit = create_circuit(m, t, _overlapping=True)\n",
    "pcvl.pdisplay(circuit, recursive=True)\n"
   ]
  },
  {
   "cell_type": "markdown",
   "metadata": {},
   "source": [
    "# Set the parameters to the array"
   ]
  },
  {
   "cell_type": "code",
   "execution_count": 10,
   "metadata": {},
   "outputs": [
    {
     "name": "stdout",
     "output_type": "stream",
     "text": [
      "[[1 2]\n",
      " [3 4]]\n"
     ]
    },
    {
     "data": {
      "text/plain": [
       "array([1, 2, 3, 4])"
      ]
     },
     "execution_count": 10,
     "metadata": {},
     "output_type": "execute_result"
    }
   ],
   "source": [
    "# I have 5 parameters to set per circuit layer (theta, phi_tl, phi_bl, phi_tr, phi_br)\n",
    "# Let't generate a random matrix: (t, 5)\n",
    "\n",
    "import numpy as np\n",
    "\n",
    "def generate_parameter_matrix(t, num_parameters):\n",
    "    # Randomly generate a matrix of size t x num_parameters\n",
    "    # This can be adjusted to generate parameters based on specific criteria\n",
    "    return np.random.rand(t, num_parameters)*2*np.pi # Random dataset of angles\n",
    "\n",
    "t = 10  # Number of timesteps\n",
    "num_parameters = 5  # Number of parameters per layer\n",
    "parameter_matrix = generate_parameter_matrix(t, num_parameters)\n",
    "parameter_matrix\n",
    "\n",
    "matrix = np.array([[1,2], [3,4]])\n",
    "print(matrix)\n",
    "matrix.flatten()"
   ]
  },
  {
   "cell_type": "code",
   "execution_count": 11,
   "metadata": {},
   "outputs": [
    {
     "name": "stdout",
     "output_type": "stream",
     "text": [
      "(10, 25)\n"
     ]
    },
    {
     "ename": "AssertionError",
     "evalue": "The number of parameters 75 in the circuit does not match the size of the matrix 250.",
     "output_type": "error",
     "traceback": [
      "\u001b[0;31m---------------------------------------------------------------------------\u001b[0m",
      "\u001b[0;31mAssertionError\u001b[0m                            Traceback (most recent call last)",
      "\u001b[1;32m/Users/mha/My Drive/Desktop/Studium/Physik/MSc/Semester 3/Extracurricular/LOQCathon/unloqc-EDF-1/RC_Method_1/dev_method_1.ipynb Cell 8\u001b[0m line \u001b[0;36m1\n\u001b[1;32m     <a href='vscode-notebook-cell:/Users/mha/My%20Drive/Desktop/Studium/Physik/MSc/Semester%203/Extracurricular/LOQCathon/unloqc-EDF-1/RC_Method_1/dev_method_1.ipynb#X10sZmlsZQ%3D%3D?line=15'>16</a>\u001b[0m     \u001b[39mfor\u001b[39;00m param, value \u001b[39min\u001b[39;00m \u001b[39mzip\u001b[39m(params, flattened_params):\n\u001b[1;32m     <a href='vscode-notebook-cell:/Users/mha/My%20Drive/Desktop/Studium/Physik/MSc/Semester%203/Extracurricular/LOQCathon/unloqc-EDF-1/RC_Method_1/dev_method_1.ipynb#X10sZmlsZQ%3D%3D?line=16'>17</a>\u001b[0m         param\u001b[39m.\u001b[39mset_value(value)\n\u001b[0;32m---> <a href='vscode-notebook-cell:/Users/mha/My%20Drive/Desktop/Studium/Physik/MSc/Semester%203/Extracurricular/LOQCathon/unloqc-EDF-1/RC_Method_1/dev_method_1.ipynb#X10sZmlsZQ%3D%3D?line=18'>19</a>\u001b[0m set_circuit_parameters(circuit, parameter_matrix)\n\u001b[1;32m     <a href='vscode-notebook-cell:/Users/mha/My%20Drive/Desktop/Studium/Physik/MSc/Semester%203/Extracurricular/LOQCathon/unloqc-EDF-1/RC_Method_1/dev_method_1.ipynb#X10sZmlsZQ%3D%3D?line=19'>20</a>\u001b[0m \u001b[39mprint\u001b[39m(circuit\u001b[39m.\u001b[39mget_parameters())\n\u001b[1;32m     <a href='vscode-notebook-cell:/Users/mha/My%20Drive/Desktop/Studium/Physik/MSc/Semester%203/Extracurricular/LOQCathon/unloqc-EDF-1/RC_Method_1/dev_method_1.ipynb#X10sZmlsZQ%3D%3D?line=20'>21</a>\u001b[0m pcvl\u001b[39m.\u001b[39mpdisplay(circuit, recursive\u001b[39m=\u001b[39m\u001b[39mTrue\u001b[39;00m)\n",
      "\u001b[1;32m/Users/mha/My Drive/Desktop/Studium/Physik/MSc/Semester 3/Extracurricular/LOQCathon/unloqc-EDF-1/RC_Method_1/dev_method_1.ipynb Cell 8\u001b[0m line \u001b[0;36m1\n\u001b[1;32m     <a href='vscode-notebook-cell:/Users/mha/My%20Drive/Desktop/Studium/Physik/MSc/Semester%203/Extracurricular/LOQCathon/unloqc-EDF-1/RC_Method_1/dev_method_1.ipynb#X10sZmlsZQ%3D%3D?line=9'>10</a>\u001b[0m params \u001b[39m=\u001b[39m circuit\u001b[39m.\u001b[39mget_parameters()\n\u001b[1;32m     <a href='vscode-notebook-cell:/Users/mha/My%20Drive/Desktop/Studium/Physik/MSc/Semester%203/Extracurricular/LOQCathon/unloqc-EDF-1/RC_Method_1/dev_method_1.ipynb#X10sZmlsZQ%3D%3D?line=11'>12</a>\u001b[0m \u001b[39m# Assert that the lengths match\u001b[39;00m\n\u001b[0;32m---> <a href='vscode-notebook-cell:/Users/mha/My%20Drive/Desktop/Studium/Physik/MSc/Semester%203/Extracurricular/LOQCathon/unloqc-EDF-1/RC_Method_1/dev_method_1.ipynb#X10sZmlsZQ%3D%3D?line=12'>13</a>\u001b[0m \u001b[39massert\u001b[39;00m \u001b[39mlen\u001b[39m(params) \u001b[39m==\u001b[39m \u001b[39mlen\u001b[39m(flattened_params), \u001b[39mf\u001b[39m\u001b[39m\"\u001b[39m\u001b[39mThe number of parameters \u001b[39m\u001b[39m{\u001b[39;00m\u001b[39mlen\u001b[39m(params)\u001b[39m}\u001b[39;00m\u001b[39m in the circuit does not match the size of the matrix \u001b[39m\u001b[39m{\u001b[39;00m\u001b[39mlen\u001b[39m(flattened_params)\u001b[39m}\u001b[39;00m\u001b[39m.\u001b[39m\u001b[39m\"\u001b[39m\n\u001b[1;32m     <a href='vscode-notebook-cell:/Users/mha/My%20Drive/Desktop/Studium/Physik/MSc/Semester%203/Extracurricular/LOQCathon/unloqc-EDF-1/RC_Method_1/dev_method_1.ipynb#X10sZmlsZQ%3D%3D?line=14'>15</a>\u001b[0m \u001b[39m# Set the values of the parameters\u001b[39;00m\n\u001b[1;32m     <a href='vscode-notebook-cell:/Users/mha/My%20Drive/Desktop/Studium/Physik/MSc/Semester%203/Extracurricular/LOQCathon/unloqc-EDF-1/RC_Method_1/dev_method_1.ipynb#X10sZmlsZQ%3D%3D?line=15'>16</a>\u001b[0m \u001b[39mfor\u001b[39;00m param, value \u001b[39min\u001b[39;00m \u001b[39mzip\u001b[39m(params, flattened_params):\n",
      "\u001b[0;31mAssertionError\u001b[0m: The number of parameters 75 in the circuit does not match the size of the matrix 250."
     ]
    }
   ],
   "source": [
    "#Let's set the parameters of the circuit to the values in the matrix\n",
    "\n",
    "parameter_matrix = generate_parameter_matrix(t, (m-1)*5)\n",
    "print(parameter_matrix.shape)\n",
    "\n",
    "def set_circuit_parameters(circuit, parameter_matrix):\n",
    "    # Flatten the parameter matrix to match the list of parameters\n",
    "    flattened_params = parameter_matrix.flatten() # [[1,2], [3,4]] -> [1,2,3,4]\n",
    "    # Get the parameters from the circuit\n",
    "    params = circuit.get_parameters()\n",
    "\n",
    "    # Assert that the lengths match\n",
    "    assert len(params) == len(flattened_params), f\"The number of parameters {len(params)} in the circuit does not match the size of the matrix {len(flattened_params)}.\"\n",
    "\n",
    "    # Set the values of the parameters\n",
    "    for param, value in zip(params, flattened_params):\n",
    "        param.set_value(value)\n",
    "\n",
    "set_circuit_parameters(circuit, parameter_matrix)\n",
    "print(circuit.get_parameters())\n",
    "pcvl.pdisplay(circuit, recursive=True)"
   ]
  },
  {
   "cell_type": "markdown",
   "metadata": {},
   "source": [
    "# Get the expectation values"
   ]
  },
  {
   "cell_type": "code",
   "execution_count": 12,
   "metadata": {},
   "outputs": [
    {
     "ename": "AssertionError",
     "evalue": "All parameters must be defined to compute numeric unitary matrix",
     "output_type": "error",
     "traceback": [
      "\u001b[0;31m---------------------------------------------------------------------------\u001b[0m",
      "\u001b[0;31mAssertionError\u001b[0m                            Traceback (most recent call last)",
      "\u001b[1;32m/Users/mha/My Drive/Desktop/Studium/Physik/MSc/Semester 3/Extracurricular/LOQCathon/unloqc-EDF-1/RC_Method_1/dev_method_1.ipynb Cell 10\u001b[0m line \u001b[0;36m2\n\u001b[1;32m      <a href='vscode-notebook-cell:/Users/mha/My%20Drive/Desktop/Studium/Physik/MSc/Semester%203/Extracurricular/LOQCathon/unloqc-EDF-1/RC_Method_1/dev_method_1.ipynb#X12sZmlsZQ%3D%3D?line=0'>1</a>\u001b[0m backend \u001b[39m=\u001b[39m pcvl\u001b[39m.\u001b[39mBackendFactory\u001b[39m.\u001b[39mget_backend(\u001b[39m\"\u001b[39m\u001b[39mSLOS\u001b[39m\u001b[39m\"\u001b[39m)\n\u001b[0;32m----> <a href='vscode-notebook-cell:/Users/mha/My%20Drive/Desktop/Studium/Physik/MSc/Semester%203/Extracurricular/LOQCathon/unloqc-EDF-1/RC_Method_1/dev_method_1.ipynb#X12sZmlsZQ%3D%3D?line=1'>2</a>\u001b[0m backend\u001b[39m.\u001b[39;49mset_circuit(circuit)\n\u001b[1;32m      <a href='vscode-notebook-cell:/Users/mha/My%20Drive/Desktop/Studium/Physik/MSc/Semester%203/Extracurricular/LOQCathon/unloqc-EDF-1/RC_Method_1/dev_method_1.ipynb#X12sZmlsZQ%3D%3D?line=2'>3</a>\u001b[0m backend\u001b[39m.\u001b[39mset_input_state(pcvl\u001b[39m.\u001b[39mBasicState([\u001b[39m8\u001b[39m]\u001b[39m*\u001b[39m\u001b[39m6\u001b[39m))\n\u001b[1;32m      <a href='vscode-notebook-cell:/Users/mha/My%20Drive/Desktop/Studium/Physik/MSc/Semester%203/Extracurricular/LOQCathon/unloqc-EDF-1/RC_Method_1/dev_method_1.ipynb#X12sZmlsZQ%3D%3D?line=3'>4</a>\u001b[0m backend\u001b[39m.\u001b[39mprob_distribution()\u001b[39m.\u001b[39mkeys()\n",
      "File \u001b[0;32m~/.local/share/virtualenvs/unloqc-EDF-1--jV6767a/lib/python3.10/site-packages/perceval/backends/_slos.py:136\u001b[0m, in \u001b[0;36mSLOSBackend.set_circuit\u001b[0;34m(self, circuit)\u001b[0m\n\u001b[1;32m    134\u001b[0m \u001b[39mself\u001b[39m\u001b[39m.\u001b[39m_input_state \u001b[39m=\u001b[39m \u001b[39mNone\u001b[39;00m\n\u001b[1;32m    135\u001b[0m \u001b[39mself\u001b[39m\u001b[39m.\u001b[39m_circuit \u001b[39m=\u001b[39m circuit\n\u001b[0;32m--> 136\u001b[0m \u001b[39mself\u001b[39m\u001b[39m.\u001b[39m_umat \u001b[39m=\u001b[39m circuit\u001b[39m.\u001b[39;49mcompute_unitary(use_symbolic\u001b[39m=\u001b[39;49m\u001b[39mself\u001b[39;49m\u001b[39m.\u001b[39;49m_symb)\n\u001b[1;32m    137\u001b[0m \u001b[39mif\u001b[39;00m \u001b[39mself\u001b[39m\u001b[39m.\u001b[39m_path_roots \u001b[39mand\u001b[39;00m previous_circuit\u001b[39m.\u001b[39mm \u001b[39m==\u001b[39m circuit\u001b[39m.\u001b[39mm:\n\u001b[1;32m    138\u001b[0m     \u001b[39m# Use the previously deployed paths to store the new circuit's coefs\u001b[39;00m\n\u001b[1;32m    139\u001b[0m     \u001b[39mself\u001b[39m\u001b[39m.\u001b[39m_compute_path(\u001b[39mself\u001b[39m\u001b[39m.\u001b[39m_umat)\n",
      "File \u001b[0;32m~/.local/share/virtualenvs/unloqc-EDF-1--jV6767a/lib/python3.10/site-packages/perceval/components/linear_circuit.py:469\u001b[0m, in \u001b[0;36mCircuit.compute_unitary\u001b[0;34m(self, use_symbolic, assign, use_polarization)\u001b[0m\n\u001b[1;32m    467\u001b[0m \u001b[39melif\u001b[39;00m \u001b[39mnot\u001b[39;00m use_polarization:\n\u001b[1;32m    468\u001b[0m     \u001b[39massert\u001b[39;00m \u001b[39mself\u001b[39m\u001b[39m.\u001b[39mrequires_polarization \u001b[39mis\u001b[39;00m \u001b[39mFalse\u001b[39;00m, \u001b[39m\"\u001b[39m\u001b[39mpolarized circuit cannot generates non-polarized unitary\u001b[39m\u001b[39m\"\u001b[39m\n\u001b[0;32m--> 469\u001b[0m u \u001b[39m=\u001b[39m \u001b[39mself\u001b[39;49m\u001b[39m.\u001b[39;49m_compute_circuit_unitary(use_symbolic, use_polarization)\n\u001b[1;32m    470\u001b[0m \u001b[39mif\u001b[39;00m u \u001b[39mis\u001b[39;00m \u001b[39mNone\u001b[39;00m:\n\u001b[1;32m    471\u001b[0m     u \u001b[39m=\u001b[39m Matrix\u001b[39m.\u001b[39meye(\u001b[39mself\u001b[39m\u001b[39m.\u001b[39m_m, use_symbolic\u001b[39m=\u001b[39muse_symbolic)\n",
      "File \u001b[0;32m~/.local/share/virtualenvs/unloqc-EDF-1--jV6767a/lib/python3.10/site-packages/perceval/components/linear_circuit.py:423\u001b[0m, in \u001b[0;36mCircuit._compute_circuit_unitary\u001b[0;34m(self, use_symbolic, use_polarization)\u001b[0m\n\u001b[1;32m    421\u001b[0m multiplier \u001b[39m=\u001b[39m \u001b[39m2\u001b[39m \u001b[39mif\u001b[39;00m use_polarization \u001b[39melse\u001b[39;00m \u001b[39m1\u001b[39m\n\u001b[1;32m    422\u001b[0m \u001b[39mfor\u001b[39;00m r, c \u001b[39min\u001b[39;00m \u001b[39mself\u001b[39m\u001b[39m.\u001b[39m_components:\n\u001b[0;32m--> 423\u001b[0m     cU \u001b[39m=\u001b[39m c\u001b[39m.\u001b[39;49mcompute_unitary(use_symbolic\u001b[39m=\u001b[39;49muse_symbolic, use_polarization\u001b[39m=\u001b[39;49muse_polarization)\n\u001b[1;32m    424\u001b[0m     \u001b[39mif\u001b[39;00m \u001b[39mlen\u001b[39m(r) \u001b[39m!=\u001b[39m multiplier\u001b[39m*\u001b[39m\u001b[39mself\u001b[39m\u001b[39m.\u001b[39m_m:\n\u001b[1;32m    425\u001b[0m         nU \u001b[39m=\u001b[39m Matrix\u001b[39m.\u001b[39meye(multiplier\u001b[39m*\u001b[39m\u001b[39mself\u001b[39m\u001b[39m.\u001b[39m_m, use_symbolic)\n",
      "File \u001b[0;32m~/.local/share/virtualenvs/unloqc-EDF-1--jV6767a/lib/python3.10/site-packages/perceval/components/linear_circuit.py:469\u001b[0m, in \u001b[0;36mCircuit.compute_unitary\u001b[0;34m(self, use_symbolic, assign, use_polarization)\u001b[0m\n\u001b[1;32m    467\u001b[0m \u001b[39melif\u001b[39;00m \u001b[39mnot\u001b[39;00m use_polarization:\n\u001b[1;32m    468\u001b[0m     \u001b[39massert\u001b[39;00m \u001b[39mself\u001b[39m\u001b[39m.\u001b[39mrequires_polarization \u001b[39mis\u001b[39;00m \u001b[39mFalse\u001b[39;00m, \u001b[39m\"\u001b[39m\u001b[39mpolarized circuit cannot generates non-polarized unitary\u001b[39m\u001b[39m\"\u001b[39m\n\u001b[0;32m--> 469\u001b[0m u \u001b[39m=\u001b[39m \u001b[39mself\u001b[39;49m\u001b[39m.\u001b[39;49m_compute_circuit_unitary(use_symbolic, use_polarization)\n\u001b[1;32m    470\u001b[0m \u001b[39mif\u001b[39;00m u \u001b[39mis\u001b[39;00m \u001b[39mNone\u001b[39;00m:\n\u001b[1;32m    471\u001b[0m     u \u001b[39m=\u001b[39m Matrix\u001b[39m.\u001b[39meye(\u001b[39mself\u001b[39m\u001b[39m.\u001b[39m_m, use_symbolic\u001b[39m=\u001b[39muse_symbolic)\n",
      "File \u001b[0;32m~/.local/share/virtualenvs/unloqc-EDF-1--jV6767a/lib/python3.10/site-packages/perceval/components/linear_circuit.py:423\u001b[0m, in \u001b[0;36mCircuit._compute_circuit_unitary\u001b[0;34m(self, use_symbolic, use_polarization)\u001b[0m\n\u001b[1;32m    421\u001b[0m multiplier \u001b[39m=\u001b[39m \u001b[39m2\u001b[39m \u001b[39mif\u001b[39;00m use_polarization \u001b[39melse\u001b[39;00m \u001b[39m1\u001b[39m\n\u001b[1;32m    422\u001b[0m \u001b[39mfor\u001b[39;00m r, c \u001b[39min\u001b[39;00m \u001b[39mself\u001b[39m\u001b[39m.\u001b[39m_components:\n\u001b[0;32m--> 423\u001b[0m     cU \u001b[39m=\u001b[39m c\u001b[39m.\u001b[39;49mcompute_unitary(use_symbolic\u001b[39m=\u001b[39;49muse_symbolic, use_polarization\u001b[39m=\u001b[39;49muse_polarization)\n\u001b[1;32m    424\u001b[0m     \u001b[39mif\u001b[39;00m \u001b[39mlen\u001b[39m(r) \u001b[39m!=\u001b[39m multiplier\u001b[39m*\u001b[39m\u001b[39mself\u001b[39m\u001b[39m.\u001b[39m_m:\n\u001b[1;32m    425\u001b[0m         nU \u001b[39m=\u001b[39m Matrix\u001b[39m.\u001b[39meye(multiplier\u001b[39m*\u001b[39m\u001b[39mself\u001b[39m\u001b[39m.\u001b[39m_m, use_symbolic)\n",
      "File \u001b[0;32m~/.local/share/virtualenvs/unloqc-EDF-1--jV6767a/lib/python3.10/site-packages/perceval/components/linear_circuit.py:469\u001b[0m, in \u001b[0;36mCircuit.compute_unitary\u001b[0;34m(self, use_symbolic, assign, use_polarization)\u001b[0m\n\u001b[1;32m    467\u001b[0m \u001b[39melif\u001b[39;00m \u001b[39mnot\u001b[39;00m use_polarization:\n\u001b[1;32m    468\u001b[0m     \u001b[39massert\u001b[39;00m \u001b[39mself\u001b[39m\u001b[39m.\u001b[39mrequires_polarization \u001b[39mis\u001b[39;00m \u001b[39mFalse\u001b[39;00m, \u001b[39m\"\u001b[39m\u001b[39mpolarized circuit cannot generates non-polarized unitary\u001b[39m\u001b[39m\"\u001b[39m\n\u001b[0;32m--> 469\u001b[0m u \u001b[39m=\u001b[39m \u001b[39mself\u001b[39;49m\u001b[39m.\u001b[39;49m_compute_circuit_unitary(use_symbolic, use_polarization)\n\u001b[1;32m    470\u001b[0m \u001b[39mif\u001b[39;00m u \u001b[39mis\u001b[39;00m \u001b[39mNone\u001b[39;00m:\n\u001b[1;32m    471\u001b[0m     u \u001b[39m=\u001b[39m Matrix\u001b[39m.\u001b[39meye(\u001b[39mself\u001b[39m\u001b[39m.\u001b[39m_m, use_symbolic\u001b[39m=\u001b[39muse_symbolic)\n",
      "File \u001b[0;32m~/.local/share/virtualenvs/unloqc-EDF-1--jV6767a/lib/python3.10/site-packages/perceval/components/linear_circuit.py:423\u001b[0m, in \u001b[0;36mCircuit._compute_circuit_unitary\u001b[0;34m(self, use_symbolic, use_polarization)\u001b[0m\n\u001b[1;32m    421\u001b[0m multiplier \u001b[39m=\u001b[39m \u001b[39m2\u001b[39m \u001b[39mif\u001b[39;00m use_polarization \u001b[39melse\u001b[39;00m \u001b[39m1\u001b[39m\n\u001b[1;32m    422\u001b[0m \u001b[39mfor\u001b[39;00m r, c \u001b[39min\u001b[39;00m \u001b[39mself\u001b[39m\u001b[39m.\u001b[39m_components:\n\u001b[0;32m--> 423\u001b[0m     cU \u001b[39m=\u001b[39m c\u001b[39m.\u001b[39;49mcompute_unitary(use_symbolic\u001b[39m=\u001b[39;49muse_symbolic, use_polarization\u001b[39m=\u001b[39;49muse_polarization)\n\u001b[1;32m    424\u001b[0m     \u001b[39mif\u001b[39;00m \u001b[39mlen\u001b[39m(r) \u001b[39m!=\u001b[39m multiplier\u001b[39m*\u001b[39m\u001b[39mself\u001b[39m\u001b[39m.\u001b[39m_m:\n\u001b[1;32m    425\u001b[0m         nU \u001b[39m=\u001b[39m Matrix\u001b[39m.\u001b[39meye(multiplier\u001b[39m*\u001b[39m\u001b[39mself\u001b[39m\u001b[39m.\u001b[39m_m, use_symbolic)\n",
      "File \u001b[0;32m~/.local/share/virtualenvs/unloqc-EDF-1--jV6767a/lib/python3.10/site-packages/perceval/components/linear_circuit.py:82\u001b[0m, in \u001b[0;36mACircuit.compute_unitary\u001b[0;34m(self, assign, use_symbolic, use_polarization)\u001b[0m\n\u001b[1;32m     73\u001b[0m \u001b[39m\u001b[39m\u001b[39m\"\"\"Compute the unitary matrix corresponding to the current circuit\u001b[39;00m\n\u001b[1;32m     74\u001b[0m \n\u001b[1;32m     75\u001b[0m \u001b[39m:param use_polarization:\u001b[39;00m\n\u001b[0;32m   (...)\u001b[0m\n\u001b[1;32m     79\u001b[0m \u001b[39m         if not.\u001b[39;00m\n\u001b[1;32m     80\u001b[0m \u001b[39m\"\"\"\u001b[39;00m\n\u001b[1;32m     81\u001b[0m \u001b[39mif\u001b[39;00m \u001b[39mnot\u001b[39;00m use_symbolic:\n\u001b[0;32m---> 82\u001b[0m     \u001b[39massert\u001b[39;00m \u001b[39mself\u001b[39m\u001b[39m.\u001b[39mdefined, \u001b[39m'\u001b[39m\u001b[39mAll parameters must be defined to compute numeric unitary matrix\u001b[39m\u001b[39m'\u001b[39m\n\u001b[1;32m     83\u001b[0m \u001b[39mif\u001b[39;00m \u001b[39mself\u001b[39m\u001b[39m.\u001b[39m_supports_polarization:\n\u001b[1;32m     84\u001b[0m     \u001b[39massert\u001b[39;00m use_polarization \u001b[39mis\u001b[39;00m \u001b[39mnot\u001b[39;00m \u001b[39mFalse\u001b[39;00m, \u001b[39m\"\u001b[39m\u001b[39mpolarized circuit cannot generates non-polarized unitary\u001b[39m\u001b[39m\"\u001b[39m\n",
      "\u001b[0;31mAssertionError\u001b[0m: All parameters must be defined to compute numeric unitary matrix"
     ]
    }
   ],
   "source": [
    "backend = pcvl.BackendFactory.get_backend(\"SLOS\")\n",
    "backend.set_circuit(circuit)\n",
    "backend.set_input_state(pcvl.BasicState([8]*6))\n",
    "backend.prob_distribution().keys()"
   ]
  },
  {
   "cell_type": "code",
   "execution_count": 13,
   "metadata": {},
   "outputs": [
    {
     "ename": "KeyError",
     "evalue": "None",
     "output_type": "error",
     "traceback": [
      "\u001b[0;31m---------------------------------------------------------------------------\u001b[0m",
      "\u001b[0;31mKeyError\u001b[0m                                  Traceback (most recent call last)",
      "\u001b[1;32m/Users/mha/My Drive/Desktop/Studium/Physik/MSc/Semester 3/Extracurricular/LOQCathon/unloqc-EDF-1/RC_Method_1/dev_method_1.ipynb Cell 11\u001b[0m line \u001b[0;36m2\n\u001b[1;32m     <a href='vscode-notebook-cell:/Users/mha/My%20Drive/Desktop/Studium/Physik/MSc/Semester%203/Extracurricular/LOQCathon/unloqc-EDF-1/RC_Method_1/dev_method_1.ipynb#X13sZmlsZQ%3D%3D?line=16'>17</a>\u001b[0m     \u001b[39mreturn\u001b[39;00m expectations\n\u001b[1;32m     <a href='vscode-notebook-cell:/Users/mha/My%20Drive/Desktop/Studium/Physik/MSc/Semester%203/Extracurricular/LOQCathon/unloqc-EDF-1/RC_Method_1/dev_method_1.ipynb#X13sZmlsZQ%3D%3D?line=18'>19</a>\u001b[0m \u001b[39m# Example usage\u001b[39;00m\n\u001b[0;32m---> <a href='vscode-notebook-cell:/Users/mha/My%20Drive/Desktop/Studium/Physik/MSc/Semester%203/Extracurricular/LOQCathon/unloqc-EDF-1/RC_Method_1/dev_method_1.ipynb#X13sZmlsZQ%3D%3D?line=19'>20</a>\u001b[0m prob_distribution \u001b[39m=\u001b[39m backend\u001b[39m.\u001b[39;49mprob_distribution()\n\u001b[1;32m     <a href='vscode-notebook-cell:/Users/mha/My%20Drive/Desktop/Studium/Physik/MSc/Semester%203/Extracurricular/LOQCathon/unloqc-EDF-1/RC_Method_1/dev_method_1.ipynb#X13sZmlsZQ%3D%3D?line=20'>21</a>\u001b[0m expectation_values \u001b[39m=\u001b[39m calculate_mode_expectations(prob_distribution)\n\u001b[1;32m     <a href='vscode-notebook-cell:/Users/mha/My%20Drive/Desktop/Studium/Physik/MSc/Semester%203/Extracurricular/LOQCathon/unloqc-EDF-1/RC_Method_1/dev_method_1.ipynb#X13sZmlsZQ%3D%3D?line=21'>22</a>\u001b[0m \u001b[39mprint\u001b[39m(\u001b[39m\"\u001b[39m\u001b[39mExpectation values for each mode:\u001b[39m\u001b[39m\"\u001b[39m, expectation_values)\n",
      "File \u001b[0;32m~/.local/share/virtualenvs/unloqc-EDF-1--jV6767a/lib/python3.10/site-packages/perceval/backends/_slos.py:195\u001b[0m, in \u001b[0;36mSLOSBackend.prob_distribution\u001b[0;34m(self)\u001b[0m\n\u001b[1;32m    193\u001b[0m \u001b[39mdef\u001b[39;00m \u001b[39mprob_distribution\u001b[39m(\u001b[39mself\u001b[39m) \u001b[39m-\u001b[39m\u001b[39m>\u001b[39m BSDistribution:\n\u001b[1;32m    194\u001b[0m     istate \u001b[39m=\u001b[39m \u001b[39mself\u001b[39m\u001b[39m.\u001b[39m_input_state\n\u001b[0;32m--> 195\u001b[0m     c \u001b[39m=\u001b[39m np\u001b[39m.\u001b[39mcopy(\u001b[39mself\u001b[39;49m\u001b[39m.\u001b[39;49m_state_mapping[istate]\u001b[39m.\u001b[39mcoefs)\u001b[39m.\u001b[39mreshape(\u001b[39mself\u001b[39m\u001b[39m.\u001b[39m_fsas[istate\u001b[39m.\u001b[39mn]\u001b[39m.\u001b[39mcount())\n\u001b[1;32m    196\u001b[0m     bsd \u001b[39m=\u001b[39m BSDistribution()\n\u001b[1;32m    197\u001b[0m     iprodnfact \u001b[39m=\u001b[39m istate\u001b[39m.\u001b[39mprodnfact()\n",
      "\u001b[0;31mKeyError\u001b[0m: None"
     ]
    }
   ],
   "source": [
    "def calculate_mode_expectations(prob_distribution):\n",
    "    # Initialize a list to store the expectation values for each mode\n",
    "    # Assuming the first key in the dictionary represents the state format\n",
    "    first_key = next(iter(prob_distribution.keys()))\n",
    "    num_modes = len(first_key)  # Determine the number of modes from the FockState\n",
    "    expectations = [0.0 for _ in range(num_modes)]\n",
    "\n",
    "    # Iterate over the states and their probabilities\n",
    "    for state, probability in prob_distribution.items():\n",
    "        # Directly use the photon numbers from the FockState\n",
    "        photon_numbers = state\n",
    "\n",
    "        # Accumulate the expectation values for each mode\n",
    "        for mode in range(num_modes):\n",
    "            expectations[mode] += photon_numbers[mode] * probability\n",
    "\n",
    "    return expectations\n",
    "\n",
    "# Example usage\n",
    "prob_distribution = backend.prob_distribution()\n",
    "expectation_values = calculate_mode_expectations(prob_distribution)\n",
    "print(\"Expectation values for each mode:\", expectation_values)\n"
   ]
  },
  {
   "cell_type": "code",
   "execution_count": null,
   "metadata": {},
   "outputs": [],
   "source": [
    "\n",
    "print(backend.all_prob(pcvl.BasicState([0]*6)))\n",
    "print(backend.prob_amplitude(pcvl.BasicState([2]*6)))  #note that it's the amplitude !\n",
    "print(backend.prob_amplitude(pcvl.BasicState([0]*6)))\n",
    "print(backend.probability(pcvl.BasicState([2]*6)))"
   ]
  },
  {
   "cell_type": "markdown",
   "metadata": {},
   "source": [
    "# Making it a class"
   ]
  },
  {
   "cell_type": "code",
   "execution_count": 76,
   "metadata": {},
   "outputs": [
    {
     "name": "stdout",
     "output_type": "stream",
     "text": [
      "Expectation values for each mode: [1.767946361656972, 2.600894637134805, 3.6966245560949513, 3.051264569604818, 2.546193036103541, 2.3370768394057175]\n"
     ]
    }
   ],
   "source": [
    "import perceval as pcvl\n",
    "import numpy as np\n",
    "\n",
    "class PhotonicCircuitSimulator:\n",
    "    def __init__(self, m, t, overlapping=False):\n",
    "        self.m = m  # Number of modes\n",
    "        self.t = t  # Number of time layers\n",
    "        self.overlapping = overlapping\n",
    "        self.circuit = self.create_circuit()\n",
    "\n",
    "    def U_ij_t(self, i, j, t=0):\n",
    "        \"\"\"Returns the unitary acting on mode i and j.\"\"\"\n",
    "        return (pcvl.Circuit(2, name=f\"U_{i}{j}_t{t}\")\n",
    "                .add(0, pcvl.PS(phi=pcvl.P(f\"phi_tl_{i}{j}_t{t}\")))\n",
    "                .add(1, pcvl.PS(phi=pcvl.P(f\"phi_bl_{i}{j}_t{t}\")))\n",
    "                .add(0, pcvl.BS(theta=pcvl.P(f'theta_{i}{j}_t{t}')))\n",
    "                .add(0, pcvl.PS(phi=pcvl.P(f\"phi_tr_{i}{j}_t{t}\")))\n",
    "                .add(1, pcvl.PS(phi=pcvl.P(f\"phi_br_{i}{j}_t{t}\"))))\n",
    "\n",
    "    def full_layer(self, t=0):\n",
    "        \"\"\"Generate one full time layer\"\"\"\n",
    "        layer = pcvl.Circuit(self.m)\n",
    "        if self.overlapping:\n",
    "            for i in range(self.m - 1):\n",
    "                layer = layer.add(i, self.U_ij_t(i, (i + 1), t))\n",
    "        else:\n",
    "            if self.m % 2 != 0:\n",
    "                print(\"WARNING: Number of modes is not even; last mode will be ignored.\")\n",
    "            for i in range(self.m // 2):\n",
    "                layer = layer.add(2 * i, self.U_ij_t(2 * i, 2 * i + 1, t))\n",
    "        return layer\n",
    "\n",
    "    def create_circuit(self):\n",
    "        \"\"\"Creates a circuit with t layers.\"\"\"\n",
    "        circuit = pcvl.Circuit(self.m)\n",
    "        for t in range(self.t):\n",
    "            circuit = circuit.add(0, self.full_layer(t))\n",
    "        return circuit\n",
    "    \n",
    "    def generate_rndm_param_matrix(self):\n",
    "        \"\"\"Generates a random parameter matrix of size (t, num_parameters).\"\"\"\n",
    "        num_parameters = len(self.circuit.get_parameters())\n",
    "        return np.random.rand(t, num_parameters//t)*2*np.pi # Random dataset of angles\n",
    "\n",
    "    def set_circuit_parameters(self, parameter_matrix):\n",
    "        \"\"\"Set the parameters of the circuit to the values in the matrix.\n",
    "        \n",
    "        Args:\n",
    "            parameter_matrix (np.ndarray): A matrix of size (t, num_parameters).\n",
    "\n",
    "        Description:\n",
    "            The parameter matrix is flattened to match the list of parameters.\n",
    "            The parameters are set in the order they appear in the circuit.\n",
    "        \"\"\"\n",
    "        flattened_params = parameter_matrix.flatten()\n",
    "        params = self.circuit.get_parameters()\n",
    "        assert len(params) == len(flattened_params), f\"Parameter length mismatch. Expected {len(params)} parameters, got {len(flattened_params)}.\"\n",
    "        for param, value in zip(params, flattened_params):\n",
    "            param.set_value(value)\n",
    "\n",
    "    def calculate_mode_expectations(self, input_state : pcvl.BasicState = None):\n",
    "\n",
    "        if input_state is None:\n",
    "            print(\"WARNING: No input state provided. Using the vacuum state.\")\n",
    "            input_state = pcvl.BasicState([0] * self.m)\n",
    "\n",
    "        backend = pcvl.BackendFactory.get_backend(\"SLOS\")\n",
    "        backend.set_circuit(self.circuit)\n",
    "        backend.set_input_state(input_state)\n",
    "        prob_distribution = backend.prob_distribution()\n",
    "\n",
    "        expectations = [0.0 for _ in range(self.m)]\n",
    "        for state, probability in prob_distribution.items():\n",
    "            for mode in range(self.m):\n",
    "                expectations[mode] += state[mode] * probability\n",
    "        return expectations\n",
    "\n",
    "# Example usage\n",
    "m = 6\n",
    "t = 100\n",
    "simulator = PhotonicCircuitSimulator(m, t, overlapping=True)\n",
    "\n",
    "# Set parameters\n",
    "param_matrix = simulator.generate_rndm_param_matrix()\n",
    "simulator.set_circuit_parameters(param_matrix)\n",
    "\n",
    "# Calculate expectations\n",
    "input_state = pcvl.BasicState([4]*(m-2) + [0]*2)\n",
    "expectation_values = simulator.calculate_mode_expectations(input_state)\n",
    "print(\"Expectation values for each mode:\", expectation_values)\n"
   ]
  },
  {
   "cell_type": "code",
   "execution_count": null,
   "metadata": {},
   "outputs": [],
   "source": []
  },
  {
   "cell_type": "code",
   "execution_count": null,
   "metadata": {},
   "outputs": [],
   "source": []
  }
 ],
 "metadata": {
  "kernelspec": {
   "display_name": "unloqc-EDF-1--jV6767a",
   "language": "python",
   "name": "python3"
  },
  "language_info": {
   "codemirror_mode": {
    "name": "ipython",
    "version": 3
   },
   "file_extension": ".py",
   "mimetype": "text/x-python",
   "name": "python",
   "nbconvert_exporter": "python",
   "pygments_lexer": "ipython3",
   "version": "3.10.12"
  }
 },
 "nbformat": 4,
 "nbformat_minor": 2
}
